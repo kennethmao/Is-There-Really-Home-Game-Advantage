{
  "nbformat": 4,
  "nbformat_minor": 0,
  "metadata": {
    "colab": {
      "name": "DH 100 Project.ipynb",
      "provenance": [],
      "collapsed_sections": [],
      "authorship_tag": "ABX9TyMq9E2cBlWArw/G5AVt/yIx",
      "include_colab_link": true
    },
    "kernelspec": {
      "name": "python3",
      "display_name": "Python 3"
    },
    "language_info": {
      "name": "python"
    }
  },
  "cells": [
    {
      "cell_type": "markdown",
      "metadata": {
        "id": "view-in-github",
        "colab_type": "text"
      },
      "source": [
        "<a href=\"https://colab.research.google.com/github/kennethmao/Is-There-Really-Home-Game-Advantage/blob/main/DH_100_Project.ipynb\" target=\"_parent\"><img src=\"https://colab.research.google.com/assets/colab-badge.svg\" alt=\"Open In Colab\"/></a>"
      ]
    },
    {
      "cell_type": "markdown",
      "metadata": {
        "id": "aNR7dNM6IiUR"
      },
      "source": [
        "# **Is There Really Home Court Advantage**\n",
        "\n",
        "**Author: Kenneth Mao**\n",
        "\n",
        "Course: Digital Humanity 100 by Dr. Adam Anderson\n"
      ]
    },
    {
      "cell_type": "markdown",
      "metadata": {
        "id": "y3kVrf3eYDaG"
      },
      "source": [
        "# Project Description"
      ]
    },
    {
      "cell_type": "markdown",
      "metadata": {
        "id": "h05AHkS5YO7I"
      },
      "source": [
        "In team sports, the term home advantage, also called home-court advantage, describes the advantahe that the home team is said to gain over the visiting team. This benefit has been attributed to psychological effects supporting fans have on the competitors or referees; to psychological or physiological advantages of playing near home in familiar situations; to the disadvantages away teams suffer from changing time zones or climates, or from the rigors of trave. \n",
        "\n",
        "Using data from previous seasons, including the 2020 season and excluding all the playoff (post-season) games, this project will reveal if home-court advantage really exist."
      ]
    },
    {
      "cell_type": "markdown",
      "metadata": {
        "id": "TOboAbJEYg94"
      },
      "source": [
        "# Research Question and Hypothesis"
      ]
    },
    {
      "cell_type": "markdown",
      "metadata": {
        "id": "WRLutC9tYsf9"
      },
      "source": [
        "- Is home court advantage real?\n",
        "- Is it more likely for a team to win if it was a home\n",
        "game?\n",
        "- Do teams score more for home games regardless of winning or losing?\n",
        "\n",
        "*Hypothesis*: Home court advanrage is real; the teams are more likely to win if it is a home game; and the teams are more likely to score more for home games than away games."
      ]
    },
    {
      "cell_type": "markdown",
      "metadata": {
        "id": "B2_x85zAY9RU"
      },
      "source": [
        "# Import Libraries and Data (.csv files)"
      ]
    },
    {
      "cell_type": "markdown",
      "metadata": {
        "id": "mv9nXNZWOFw6"
      },
      "source": [
        "First mount to google drive:"
      ]
    },
    {
      "cell_type": "code",
      "metadata": {
        "colab": {
          "base_uri": "https://localhost:8080/"
        },
        "id": "RL5i1M7FTMdh",
        "outputId": "dc2fb7a5-6395-4cb0-bd11-ffc3ecaacd31"
      },
      "source": [
        "from google.colab import drive\n",
        "drive.mount('/content/drive')"
      ],
      "execution_count": 1,
      "outputs": [
        {
          "output_type": "stream",
          "text": [
            "Mounted at /content/drive\n"
          ],
          "name": "stdout"
        }
      ]
    },
    {
      "cell_type": "markdown",
      "metadata": {
        "id": "teQpV4P2ZK2T"
      },
      "source": [
        "Import libraries: numpy, datascience, and matplotlib"
      ]
    },
    {
      "cell_type": "code",
      "metadata": {
        "id": "tHhBPWy-DdsS",
        "colab": {
          "base_uri": "https://localhost:8080/"
        },
        "outputId": "4e888df1-1a01-46f5-983c-e591576391ad"
      },
      "source": [
        "import numpy as np\n",
        "import io\n",
        "import matplotlib.pyplot as plt\n",
        "import datascience \n",
        "from datascience import *\n",
        "import matplotlib\n",
        "matplotlib.use('Agg')\n",
        "%matplotlib inline\n",
        "import matplotlib.pyplot as plots\n",
        "plots.style.use('fivethirtyeight')"
      ],
      "execution_count": 2,
      "outputs": [
        {
          "output_type": "stream",
          "text": [
            "/usr/local/lib/python3.7/dist-packages/datascience/tables.py:17: MatplotlibDeprecationWarning: The 'warn' parameter of use() is deprecated since Matplotlib 3.1 and will be removed in 3.3.  If any parameter follows 'warn', they should be pass as keyword, not positionally.\n",
            "  matplotlib.use('agg', warn=False)\n",
            "/usr/local/lib/python3.7/dist-packages/datascience/util.py:10: MatplotlibDeprecationWarning: The 'warn' parameter of use() is deprecated since Matplotlib 3.1 and will be removed in 3.3.  If any parameter follows 'warn', they should be pass as keyword, not positionally.\n",
            "  matplotlib.use('agg', warn=False)\n"
          ],
          "name": "stderr"
        }
      ]
    },
    {
      "cell_type": "markdown",
      "metadata": {
        "id": "CPu8WCD7N8lw"
      },
      "source": [
        "Read each file and assign a name for each."
      ]
    },
    {
      "cell_type": "code",
      "metadata": {
        "id": "v-eaamigDldU"
      },
      "source": [
        "games = Table().read_table(\"/content/drive/My Drive/games.csv\")\n",
        "teams = Table().read_table(\"/content/drive/My Drive/teams.csv\")\n",
        "players = Table().read_table(\"/content/drive/My Drive/players.csv\")\n",
        "ranking = Table().read_table(\"/content/drive/My Drive/ranking.csv\")\n",
        "detail = Table().read_table(\"/content/drive/My Drive/games_details.csv\")"
      ],
      "execution_count": 3,
      "outputs": []
    },
    {
      "cell_type": "markdown",
      "metadata": {
        "id": "XNbtKXySZbIu"
      },
      "source": [
        "# Data Tables"
      ]
    },
    {
      "cell_type": "markdown",
      "metadata": {
        "id": "K4ZxVTfALagb"
      },
      "source": [
        "The following cells will show part of each file, which allows us to choose the necessary parts."
      ]
    },
    {
      "cell_type": "code",
      "metadata": {
        "colab": {
          "base_uri": "https://localhost:8080/",
          "height": 215
        },
        "id": "LwhZ_pJdG3En",
        "outputId": "38f12db5-42ab-4a4c-d0bd-879ad9a5acfe"
      },
      "source": [
        "games.sample(5)"
      ],
      "execution_count": 4,
      "outputs": [
        {
          "output_type": "execute_result",
          "data": {
            "text/html": [
              "<table border=\"1\" class=\"dataframe\">\n",
              "    <thead>\n",
              "        <tr>\n",
              "            <th>GAME_DATE_EST</th> <th>GAME_ID</th> <th>GAME_STATUS_TEXT</th> <th>HOME_TEAM_ID</th> <th>VISITOR_TEAM_ID</th> <th>SEASON</th> <th>TEAM_ID_home</th> <th>PTS_home</th> <th>FG_PCT_home</th> <th>FT_PCT_home</th> <th>FG3_PCT_home</th> <th>AST_home</th> <th>REB_home</th> <th>TEAM_ID_away</th> <th>PTS_away</th> <th>FG_PCT_away</th> <th>FT_PCT_away</th> <th>FG3_PCT_away</th> <th>AST_away</th> <th>REB_away</th> <th>HOME_TEAM_WINS</th>\n",
              "        </tr>\n",
              "    </thead>\n",
              "    <tbody>\n",
              "        <tr>\n",
              "            <td>2006-12-04   </td> <td>20600254</td> <td>Final           </td> <td>1610612747  </td> <td>1610612754     </td> <td>2006  </td> <td>1610612747  </td> <td>101     </td> <td>0.513      </td> <td>0.692      </td> <td>0.263       </td> <td>25      </td> <td>41      </td> <td>1610612754  </td> <td>87      </td> <td>0.433      </td> <td>0.75       </td> <td>0.313       </td> <td>24      </td> <td>28      </td> <td>1             </td>\n",
              "        </tr>\n",
              "        <tr>\n",
              "            <td>2020-02-28   </td> <td>21900884</td> <td>Final           </td> <td>1610612756  </td> <td>1610612765     </td> <td>2019  </td> <td>1610612756  </td> <td>111     </td> <td>0.6        </td> <td>0.706      </td> <td>0.391       </td> <td>31      </td> <td>38      </td> <td>1610612765  </td> <td>113     </td> <td>0.489      </td> <td>0.75       </td> <td>0.406       </td> <td>27      </td> <td>31      </td> <td>0             </td>\n",
              "        </tr>\n",
              "        <tr>\n",
              "            <td>2011-03-12   </td> <td>21000980</td> <td>Final           </td> <td>1610612749  </td> <td>1610612755     </td> <td>2010  </td> <td>1610612749  </td> <td>102     </td> <td>0.526      </td> <td>0.684      </td> <td>0.529       </td> <td>27      </td> <td>44      </td> <td>1610612755  </td> <td>74      </td> <td>0.397      </td> <td>0.75       </td> <td>0.375       </td> <td>23      </td> <td>34      </td> <td>1             </td>\n",
              "        </tr>\n",
              "        <tr>\n",
              "            <td>2019-01-13   </td> <td>21800641</td> <td>Final           </td> <td>1610612753  </td> <td>1610612745     </td> <td>2018  </td> <td>1610612753  </td> <td>116     </td> <td>0.482      </td> <td>0.893      </td> <td>0.375       </td> <td>25      </td> <td>45      </td> <td>1610612745  </td> <td>109     </td> <td>0.442      </td> <td>0.852      </td> <td>0.238       </td> <td>20      </td> <td>38      </td> <td>1             </td>\n",
              "        </tr>\n",
              "        <tr>\n",
              "            <td>2009-12-18   </td> <td>20900374</td> <td>Final           </td> <td>1610612737  </td> <td>1610612762     </td> <td>2009  </td> <td>1610612737  </td> <td>96      </td> <td>0.446      </td> <td>0.64       </td> <td>0.3         </td> <td>26      </td> <td>39      </td> <td>1610612762  </td> <td>83      </td> <td>0.429      </td> <td>0.636      </td> <td>0.2         </td> <td>24      </td> <td>44      </td> <td>1             </td>\n",
              "        </tr>\n",
              "    </tbody>\n",
              "</table>"
            ],
            "text/plain": [
              "GAME_DATE_EST | GAME_ID  | GAME_STATUS_TEXT | HOME_TEAM_ID | VISITOR_TEAM_ID | SEASON | TEAM_ID_home | PTS_home | FG_PCT_home | FT_PCT_home | FG3_PCT_home | AST_home | REB_home | TEAM_ID_away | PTS_away | FG_PCT_away | FT_PCT_away | FG3_PCT_away | AST_away | REB_away | HOME_TEAM_WINS\n",
              "2006-12-04    | 20600254 | Final            | 1610612747   | 1610612754      | 2006   | 1610612747   | 101      | 0.513       | 0.692       | 0.263        | 25       | 41       | 1610612754   | 87       | 0.433       | 0.75        | 0.313        | 24       | 28       | 1\n",
              "2020-02-28    | 21900884 | Final            | 1610612756   | 1610612765      | 2019   | 1610612756   | 111      | 0.6         | 0.706       | 0.391        | 31       | 38       | 1610612765   | 113      | 0.489       | 0.75        | 0.406        | 27       | 31       | 0\n",
              "2011-03-12    | 21000980 | Final            | 1610612749   | 1610612755      | 2010   | 1610612749   | 102      | 0.526       | 0.684       | 0.529        | 27       | 44       | 1610612755   | 74       | 0.397       | 0.75        | 0.375        | 23       | 34       | 1\n",
              "2019-01-13    | 21800641 | Final            | 1610612753   | 1610612745      | 2018   | 1610612753   | 116      | 0.482       | 0.893       | 0.375        | 25       | 45       | 1610612745   | 109      | 0.442       | 0.852       | 0.238        | 20       | 38       | 1\n",
              "2009-12-18    | 20900374 | Final            | 1610612737   | 1610612762      | 2009   | 1610612737   | 96       | 0.446       | 0.64        | 0.3          | 26       | 39       | 1610612762   | 83       | 0.429       | 0.636       | 0.2          | 24       | 44       | 1"
            ]
          },
          "metadata": {
            "tags": []
          },
          "execution_count": 4
        }
      ]
    },
    {
      "cell_type": "code",
      "metadata": {
        "colab": {
          "base_uri": "https://localhost:8080/",
          "height": 279
        },
        "id": "7XPRrHkPG4Nj",
        "outputId": "0d270fc7-eff0-40c1-c335-e14cd5877e68"
      },
      "source": [
        "teams.sample(5)"
      ],
      "execution_count": 5,
      "outputs": [
        {
          "output_type": "execute_result",
          "data": {
            "text/html": [
              "<table border=\"1\" class=\"dataframe\">\n",
              "    <thead>\n",
              "        <tr>\n",
              "            <th>LEAGUE_ID</th> <th>TEAM_ID</th> <th>MIN_YEAR</th> <th>MAX_YEAR</th> <th>ABBREVIATION</th> <th>NICKNAME</th> <th>YEARFOUNDED</th> <th>CITY</th> <th>ARENA</th> <th>ARENACAPACITY</th> <th>OWNER</th> <th>GENERALMANAGER</th> <th>HEADCOACH</th> <th>DLEAGUEAFFILIATION</th>\n",
              "        </tr>\n",
              "    </thead>\n",
              "    <tbody>\n",
              "        <tr>\n",
              "            <td>0        </td> <td>1610612742</td> <td>1980    </td> <td>2019    </td> <td>DAL         </td> <td>Mavericks</td> <td>1980       </td> <td>Dallas     </td> <td>American Airlines Center</td> <td>19200        </td> <td>Mark Cuban               </td> <td>Donnie Nelson </td> <td>Rick Carlisle   </td> <td>Texas Legends     </td>\n",
              "        </tr>\n",
              "        <tr>\n",
              "            <td>0        </td> <td>1610612749</td> <td>1968    </td> <td>2019    </td> <td>MIL         </td> <td>Bucks    </td> <td>1968       </td> <td>Milwaukee  </td> <td>Fiserv Forum            </td> <td>17500        </td> <td>Wesley Edens & Marc Lasry</td> <td>Jon Horst     </td> <td>Mike Budenholzer</td> <td>Wisconsin Herd    </td>\n",
              "        </tr>\n",
              "        <tr>\n",
              "            <td>0        </td> <td>1610612758</td> <td>1948    </td> <td>2019    </td> <td>SAC         </td> <td>Kings    </td> <td>1948       </td> <td>Sacramento </td> <td>Golden 1 Center         </td> <td>17500        </td> <td>Vivek Ranadive           </td> <td>Vlade Divac   </td> <td>Luke Walton     </td> <td>Stockton Kings    </td>\n",
              "        </tr>\n",
              "        <tr>\n",
              "            <td>0        </td> <td>1610612740</td> <td>2002    </td> <td>2019    </td> <td>NOP         </td> <td>Pelicans </td> <td>2002       </td> <td>New Orleans</td> <td>Smoothie King Center    </td> <td>nan          </td> <td>Tom Benson               </td> <td>Trajan Langdon</td> <td>Alvin Gentry    </td> <td>No Affiliate      </td>\n",
              "        </tr>\n",
              "        <tr>\n",
              "            <td>0        </td> <td>1610612738</td> <td>1946    </td> <td>2019    </td> <td>BOS         </td> <td>Celtics  </td> <td>1946       </td> <td>Boston     </td> <td>TD Garden               </td> <td>18624        </td> <td>Wyc Grousbeck            </td> <td>Danny Ainge   </td> <td>Brad Stevens    </td> <td>Maine Red Claws   </td>\n",
              "        </tr>\n",
              "    </tbody>\n",
              "</table>"
            ],
            "text/plain": [
              "LEAGUE_ID | TEAM_ID    | MIN_YEAR | MAX_YEAR | ABBREVIATION | NICKNAME  | YEARFOUNDED | CITY        | ARENA                    | ARENACAPACITY | OWNER                     | GENERALMANAGER | HEADCOACH        | DLEAGUEAFFILIATION\n",
              "0         | 1610612742 | 1980     | 2019     | DAL          | Mavericks | 1980        | Dallas      | American Airlines Center | 19200         | Mark Cuban                | Donnie Nelson  | Rick Carlisle    | Texas Legends\n",
              "0         | 1610612749 | 1968     | 2019     | MIL          | Bucks     | 1968        | Milwaukee   | Fiserv Forum             | 17500         | Wesley Edens & Marc Lasry | Jon Horst      | Mike Budenholzer | Wisconsin Herd\n",
              "0         | 1610612758 | 1948     | 2019     | SAC          | Kings     | 1948        | Sacramento  | Golden 1 Center          | 17500         | Vivek Ranadive            | Vlade Divac    | Luke Walton      | Stockton Kings\n",
              "0         | 1610612740 | 2002     | 2019     | NOP          | Pelicans  | 2002        | New Orleans | Smoothie King Center     | nan           | Tom Benson                | Trajan Langdon | Alvin Gentry     | No Affiliate\n",
              "0         | 1610612738 | 1946     | 2019     | BOS          | Celtics   | 1946        | Boston      | TD Garden                | 18624         | Wyc Grousbeck             | Danny Ainge    | Brad Stevens     | Maine Red Claws"
            ]
          },
          "metadata": {
            "tags": []
          },
          "execution_count": 5
        }
      ]
    },
    {
      "cell_type": "code",
      "metadata": {
        "colab": {
          "base_uri": "https://localhost:8080/",
          "height": 195
        },
        "id": "iGBHD0NvJqGF",
        "outputId": "d677c195-7a4f-46cc-95fc-121d21601b93"
      },
      "source": [
        "players.sample(5)"
      ],
      "execution_count": 6,
      "outputs": [
        {
          "output_type": "execute_result",
          "data": {
            "text/html": [
              "<table border=\"1\" class=\"dataframe\">\n",
              "    <thead>\n",
              "        <tr>\n",
              "            <th>PLAYER_NAME</th> <th>TEAM_ID</th> <th>PLAYER_ID</th> <th>SEASON</th>\n",
              "        </tr>\n",
              "    </thead>\n",
              "    <tbody>\n",
              "        <tr>\n",
              "            <td>Anthony Davis   </td> <td>1610612740</td> <td>203076   </td> <td>2012  </td>\n",
              "        </tr>\n",
              "        <tr>\n",
              "            <td>Lance Stephenson</td> <td>1610612754</td> <td>202362   </td> <td>2013  </td>\n",
              "        </tr>\n",
              "        <tr>\n",
              "            <td>DeMar DeRozan   </td> <td>1610612761</td> <td>201942   </td> <td>2009  </td>\n",
              "        </tr>\n",
              "        <tr>\n",
              "            <td>Gordon Hayward  </td> <td>1610612762</td> <td>202330   </td> <td>2011  </td>\n",
              "        </tr>\n",
              "        <tr>\n",
              "            <td>Jerami Grant    </td> <td>1610612760</td> <td>203924   </td> <td>2017  </td>\n",
              "        </tr>\n",
              "    </tbody>\n",
              "</table>"
            ],
            "text/plain": [
              "PLAYER_NAME      | TEAM_ID    | PLAYER_ID | SEASON\n",
              "Anthony Davis    | 1610612740 | 203076    | 2012\n",
              "Lance Stephenson | 1610612754 | 202362    | 2013\n",
              "DeMar DeRozan    | 1610612761 | 201942    | 2009\n",
              "Gordon Hayward   | 1610612762 | 202330    | 2011\n",
              "Jerami Grant     | 1610612760 | 203924    | 2017"
            ]
          },
          "metadata": {
            "tags": []
          },
          "execution_count": 6
        }
      ]
    },
    {
      "cell_type": "code",
      "metadata": {
        "colab": {
          "base_uri": "https://localhost:8080/",
          "height": 195
        },
        "id": "xQsI3iVJJsg_",
        "outputId": "9b757631-a33a-474b-f39d-e18e09c4b5a0"
      },
      "source": [
        "ranking.sample(5)"
      ],
      "execution_count": 7,
      "outputs": [
        {
          "output_type": "execute_result",
          "data": {
            "text/html": [
              "<table border=\"1\" class=\"dataframe\">\n",
              "    <thead>\n",
              "        <tr>\n",
              "            <th>TEAM_ID</th> <th>LEAGUE_ID</th> <th>SEASON_ID</th> <th>STANDINGSDATE</th> <th>CONFERENCE</th> <th>TEAM</th> <th>G</th> <th>W</th> <th>L</th> <th>W_PCT</th> <th>HOME_RECORD</th> <th>ROAD_RECORD</th> <th>RETURNTOPLAY</th>\n",
              "        </tr>\n",
              "    </thead>\n",
              "    <tbody>\n",
              "        <tr>\n",
              "            <td>1610612737</td> <td>0        </td> <td>22019    </td> <td>2019-10-31   </td> <td>East      </td> <td>Atlanta     </td> <td>5   </td> <td>2   </td> <td>3   </td> <td>0.4  </td> <td>1-2        </td> <td>1-1        </td> <td>nan         </td>\n",
              "        </tr>\n",
              "        <tr>\n",
              "            <td>1610612750</td> <td>0        </td> <td>22017    </td> <td>2017-11-14   </td> <td>West      </td> <td>Minnesota   </td> <td>13  </td> <td>8   </td> <td>5   </td> <td>0.615</td> <td>4-1        </td> <td>4-4        </td> <td>nan         </td>\n",
              "        </tr>\n",
              "        <tr>\n",
              "            <td>1610612742</td> <td>0        </td> <td>22019    </td> <td>2020-04-24   </td> <td>West      </td> <td>Dallas      </td> <td>67  </td> <td>40  </td> <td>27  </td> <td>0.597</td> <td>19-15      </td> <td>21-12      </td> <td>nan         </td>\n",
              "        </tr>\n",
              "        <tr>\n",
              "            <td>1610612740</td> <td>0        </td> <td>22019    </td> <td>2020-11-06   </td> <td>West      </td> <td>New Orleans </td> <td>72  </td> <td>30  </td> <td>42  </td> <td>0.417</td> <td>15-21      </td> <td>15-21      </td> <td>nan         </td>\n",
              "        </tr>\n",
              "        <tr>\n",
              "            <td>1610612744</td> <td>0        </td> <td>22005    </td> <td>2005-11-23   </td> <td>West      </td> <td>Golden State</td> <td>13  </td> <td>7   </td> <td>6   </td> <td>0.538</td> <td>4-3        </td> <td>3-3        </td> <td>nan         </td>\n",
              "        </tr>\n",
              "    </tbody>\n",
              "</table>"
            ],
            "text/plain": [
              "TEAM_ID    | LEAGUE_ID | SEASON_ID | STANDINGSDATE | CONFERENCE | TEAM         | G    | W    | L    | W_PCT | HOME_RECORD | ROAD_RECORD | RETURNTOPLAY\n",
              "1610612737 | 0         | 22019     | 2019-10-31    | East       | Atlanta      | 5    | 2    | 3    | 0.4   | 1-2         | 1-1         | nan\n",
              "1610612750 | 0         | 22017     | 2017-11-14    | West       | Minnesota    | 13   | 8    | 5    | 0.615 | 4-1         | 4-4         | nan\n",
              "1610612742 | 0         | 22019     | 2020-04-24    | West       | Dallas       | 67   | 40   | 27   | 0.597 | 19-15       | 21-12       | nan\n",
              "1610612740 | 0         | 22019     | 2020-11-06    | West       | New Orleans  | 72   | 30   | 42   | 0.417 | 15-21       | 15-21       | nan\n",
              "1610612744 | 0         | 22005     | 2005-11-23    | West       | Golden State | 13   | 7    | 6    | 0.538 | 4-3         | 3-3         | nan"
            ]
          },
          "metadata": {
            "tags": []
          },
          "execution_count": 7
        }
      ]
    },
    {
      "cell_type": "code",
      "metadata": {
        "colab": {
          "base_uri": "https://localhost:8080/",
          "height": 282
        },
        "id": "mnkhW_UaJuLU",
        "outputId": "4fc5b36a-300a-421a-c315-457327ed171a"
      },
      "source": [
        "detail.sample(5)"
      ],
      "execution_count": 8,
      "outputs": [
        {
          "output_type": "execute_result",
          "data": {
            "text/html": [
              "<table border=\"1\" class=\"dataframe\">\n",
              "    <thead>\n",
              "        <tr>\n",
              "            <th>GAME_ID</th> <th>TEAM_ID</th> <th>TEAM_ABBREVIATION</th> <th>TEAM_CITY</th> <th>PLAYER_ID</th> <th>PLAYER_NAME</th> <th>START_POSITION</th> <th>COMMENT</th> <th>MIN</th> <th>FGM</th> <th>FGA</th> <th>FG_PCT</th> <th>FG3M</th> <th>FG3A</th> <th>FG3_PCT</th> <th>FTM</th> <th>FTA</th> <th>FT_PCT</th> <th>OREB</th> <th>DREB</th> <th>REB</th> <th>AST</th> <th>STL</th> <th>BLK</th> <th>TO</th> <th>PF</th> <th>PTS</th> <th>PLUS_MINUS</th>\n",
              "        </tr>\n",
              "    </thead>\n",
              "    <tbody>\n",
              "        <tr>\n",
              "            <td>41200126</td> <td>1610612737</td> <td>ATL              </td> <td>Atlanta  </td> <td>201274   </td> <td>Ivan Johnson     </td> <td>nan           </td> <td>nan                   </td> <td>14:54</td> <td>2   </td> <td>5   </td> <td>0.4   </td> <td>0   </td> <td>0   </td> <td>0      </td> <td>0   </td> <td>0   </td> <td>0     </td> <td>0   </td> <td>0   </td> <td>0   </td> <td>0   </td> <td>0   </td> <td>0   </td> <td>0   </td> <td>3   </td> <td>4   </td> <td>-7        </td>\n",
              "        </tr>\n",
              "        <tr>\n",
              "            <td>21000002</td> <td>1610612757</td> <td>POR              </td> <td>Portland </td> <td>200746   </td> <td>LaMarcus Aldridge</td> <td>F             </td> <td>nan                   </td> <td>38:17</td> <td>3   </td> <td>9   </td> <td>0.333 </td> <td>0   </td> <td>0   </td> <td>0      </td> <td>2   </td> <td>4   </td> <td>0.5   </td> <td>3   </td> <td>6   </td> <td>9   </td> <td>3   </td> <td>2   </td> <td>1   </td> <td>2   </td> <td>3   </td> <td>8   </td> <td>5         </td>\n",
              "        </tr>\n",
              "        <tr>\n",
              "            <td>21900764</td> <td>1610612752</td> <td>NYK              </td> <td>New York </td> <td>1629011  </td> <td>Mitchell Robinson</td> <td>nan           </td> <td>nan                   </td> <td>18:30</td> <td>3   </td> <td>4   </td> <td>0.75  </td> <td>0   </td> <td>0   </td> <td>0      </td> <td>0   </td> <td>0   </td> <td>0     </td> <td>3   </td> <td>1   </td> <td>4   </td> <td>0   </td> <td>1   </td> <td>1   </td> <td>0   </td> <td>3   </td> <td>6   </td> <td>-5        </td>\n",
              "        </tr>\n",
              "        <tr>\n",
              "            <td>22000864</td> <td>1610612745</td> <td>HOU              </td> <td>Houston  </td> <td>1629610  </td> <td>DaQuan Jeffries  </td> <td>nan           </td> <td>DNP - Coach's Decision</td> <td>nan  </td> <td>nan </td> <td>nan </td> <td>nan   </td> <td>nan </td> <td>nan </td> <td>nan    </td> <td>nan </td> <td>nan </td> <td>nan   </td> <td>nan </td> <td>nan </td> <td>nan </td> <td>nan </td> <td>nan </td> <td>nan </td> <td>nan </td> <td>nan </td> <td>nan </td> <td>nan       </td>\n",
              "        </tr>\n",
              "        <tr>\n",
              "            <td>21000277</td> <td>1610612757</td> <td>POR              </td> <td>Portland </td> <td>200750   </td> <td>Brandon Roy      </td> <td>G             </td> <td>nan                   </td> <td>37:38</td> <td>9   </td> <td>21  </td> <td>0.429 </td> <td>0   </td> <td>3   </td> <td>0      </td> <td>0   </td> <td>0   </td> <td>0     </td> <td>1   </td> <td>1   </td> <td>2   </td> <td>4   </td> <td>0   </td> <td>1   </td> <td>3   </td> <td>1   </td> <td>18  </td> <td>-9        </td>\n",
              "        </tr>\n",
              "    </tbody>\n",
              "</table>"
            ],
            "text/plain": [
              "GAME_ID  | TEAM_ID    | TEAM_ABBREVIATION | TEAM_CITY | PLAYER_ID | PLAYER_NAME       | START_POSITION | COMMENT                | MIN   | FGM  | FGA  | FG_PCT | FG3M | FG3A | FG3_PCT | FTM  | FTA  | FT_PCT | OREB | DREB | REB  | AST  | STL  | BLK  | TO   | PF   | PTS  | PLUS_MINUS\n",
              "41200126 | 1610612737 | ATL               | Atlanta   | 201274    | Ivan Johnson      | nan            | nan                    | 14:54 | 2    | 5    | 0.4    | 0    | 0    | 0       | 0    | 0    | 0      | 0    | 0    | 0    | 0    | 0    | 0    | 0    | 3    | 4    | -7\n",
              "21000002 | 1610612757 | POR               | Portland  | 200746    | LaMarcus Aldridge | F              | nan                    | 38:17 | 3    | 9    | 0.333  | 0    | 0    | 0       | 2    | 4    | 0.5    | 3    | 6    | 9    | 3    | 2    | 1    | 2    | 3    | 8    | 5\n",
              "21900764 | 1610612752 | NYK               | New York  | 1629011   | Mitchell Robinson | nan            | nan                    | 18:30 | 3    | 4    | 0.75   | 0    | 0    | 0       | 0    | 0    | 0      | 3    | 1    | 4    | 0    | 1    | 1    | 0    | 3    | 6    | -5\n",
              "22000864 | 1610612745 | HOU               | Houston   | 1629610   | DaQuan Jeffries   | nan            | DNP - Coach's Decision | nan   | nan  | nan  | nan    | nan  | nan  | nan     | nan  | nan  | nan    | nan  | nan  | nan  | nan  | nan  | nan  | nan  | nan  | nan  | nan\n",
              "21000277 | 1610612757 | POR               | Portland  | 200750    | Brandon Roy       | G              | nan                    | 37:38 | 9    | 21   | 0.429  | 0    | 3    | 0       | 0    | 0    | 0      | 1    | 1    | 2    | 4    | 0    | 1    | 3    | 1    | 18   | -9"
            ]
          },
          "metadata": {
            "tags": []
          },
          "execution_count": 8
        }
      ]
    },
    {
      "cell_type": "markdown",
      "metadata": {
        "id": "0Q534F8ZLyu-"
      },
      "source": [
        "The detail file and player file are not really helpful, we should disregard them from now on."
      ]
    },
    {
      "cell_type": "markdown",
      "metadata": {
        "id": "FcMPhREaZoGd"
      },
      "source": [
        "# Analysis and Visualization"
      ]
    },
    {
      "cell_type": "markdown",
      "metadata": {
        "id": "W-oaUB9JZuEv"
      },
      "source": [
        "First, I will find the proportion of home game win rates out of all the games won for each of the last five seasons for all the teams."
      ]
    },
    {
      "cell_type": "code",
      "metadata": {
        "colab": {
          "base_uri": "https://localhost:8080/"
        },
        "id": "VIK2vWntXnJt",
        "outputId": "dd7a6833-621f-45a4-f50f-f9b4485a0c19"
      },
      "source": [
        "games_20 = games.where(\"SEASON\", 2020)\n",
        "games_19 = games.where(\"SEASON\", 2019)\n",
        "games_18 = games.where(\"SEASON\", 2018)\n",
        "games_17 = games.where(\"SEASON\", 2017)\n",
        "games_16 = games.where(\"SEASON\", 2016)\n",
        "home_game_win_rate = make_array(games_16.where(\"HOME_TEAM_WINS\",1).num_rows/games_16.num_rows,\n",
        "                                games_17.where(\"HOME_TEAM_WINS\",1).num_rows/games_17.num_rows,\n",
        "                                games_18.where(\"HOME_TEAM_WINS\",1).num_rows/games_18.num_rows,\n",
        "                                games_19.where(\"HOME_TEAM_WINS\",1).num_rows/games_19.num_rows,\n",
        "                                games_20.where(\"HOME_TEAM_WINS\",1).num_rows/games_20.num_rows)\n",
        "home_game_win_rate"
      ],
      "execution_count": 9,
      "outputs": [
        {
          "output_type": "execute_result",
          "data": {
            "text/plain": [
              "array([0.58078292, 0.58248915, 0.58780842, 0.53666398, 0.54643449])"
            ]
          },
          "metadata": {
            "tags": []
          },
          "execution_count": 9
        }
      ]
    },
    {
      "cell_type": "markdown",
      "metadata": {
        "id": "xWS4ivE9Z5M5"
      },
      "source": [
        "Now, I will make a ling graph to visualize the finding."
      ]
    },
    {
      "cell_type": "code",
      "metadata": {
        "colab": {
          "base_uri": "https://localhost:8080/",
          "height": 305
        },
        "id": "LZveSLYdXnGV",
        "outputId": "995bb6b7-d74e-475d-c89a-755fb2f9d800"
      },
      "source": [
        "win_rate_table = Table().with_columns(\"Year\",np.arange(2016,2021,1),\"Home Game Win Rate\", home_game_win_rate)\n",
        "win_rate_table.plot(\"Year\",\"Home Game Win Rate\")"
      ],
      "execution_count": 10,
      "outputs": [
        {
          "output_type": "display_data",
          "data": {
            "image/png": "[encoded data removed]",
            "text/plain": [
              "<Figure size 432x288 with 1 Axes>"
            ]
          },
          "metadata": {
            "tags": []
          }
        }
      ]
    },
    {
      "cell_type": "markdown",
      "metadata": {
        "id": "0TxErn_XM7Po"
      },
      "source": [
        "It appears that the proportion of games won for home games out of all the games won is greater than 50%. Which indicates that if a team wins, it is more likely that it is a home game than an away game. \n",
        "\n",
        "Next, I will choose data for four different teams, two from west conference and two from east conference.\n",
        "\n",
        "\n",
        "West: Lakers, Jazz.\n",
        "\n",
        "East: Nets, Heat. \n",
        "\n",
        "I will start with obtaining the team id for each of the four teams."
      ]
    },
    {
      "cell_type": "code",
      "metadata": {
        "id": "EwLlQSYJM3xd"
      },
      "source": [
        "Lakers_id = teams.where(\"NICKNAME\", \"Lakers\").column(1)\n",
        "Jazz_id = teams.where(\"NICKNAME\", \"Jazz\").column(1)\n",
        "Nets_id = teams.where(\"NICKNAME\", \"Nets\").column(1)\n",
        "Heat_id = teams.where(\"NICKNAME\", \"Heat\").column(1)"
      ],
      "execution_count": 11,
      "outputs": []
    },
    {
      "cell_type": "markdown",
      "metadata": {
        "id": "QDA-FOENQWNk"
      },
      "source": [
        "The following cells will show the overall win rate of Lakers for each of the past 5 seasons."
      ]
    },
    {
      "cell_type": "code",
      "metadata": {
        "colab": {
          "base_uri": "https://localhost:8080/",
          "height": 110
        },
        "id": "MuPqKcWcOg-M",
        "outputId": "e84bf5fe-8513-44e7-de77-bb9276d595b8"
      },
      "source": [
        "ranking.where(\"TEAM_ID\", Lakers_id).where(\"SEASON_ID\", 22020).item(1)"
      ],
      "execution_count": 12,
      "outputs": [
        {
          "output_type": "stream",
          "text": [
            "/usr/local/lib/python3.7/dist-packages/datascience/tables.py:192: FutureWarning: Implicit column method lookup is deprecated.\n",
            "  warnings.warn(\"Implicit column method lookup is deprecated.\", FutureWarning)\n"
          ],
          "name": "stderr"
        },
        {
          "output_type": "execute_result",
          "data": {
            "text/html": [
              "<table border=\"1\" class=\"dataframe\">\n",
              "    <thead>\n",
              "        <tr>\n",
              "            <th>TEAM_ID</th> <th>LEAGUE_ID</th> <th>SEASON_ID</th> <th>STANDINGSDATE</th> <th>CONFERENCE</th> <th>TEAM</th> <th>G</th> <th>W</th> <th>L</th> <th>W_PCT</th> <th>HOME_RECORD</th> <th>ROAD_RECORD</th> <th>RETURNTOPLAY</th>\n",
              "        </tr>\n",
              "    </thead>\n",
              "    <tbody>\n",
              "        <tr>\n",
              "            <td>1610612747</td> <td>0        </td> <td>22020    </td> <td>2021-05-25   </td> <td>West      </td> <td>L.A. Lakers</td> <td>72  </td> <td>42  </td> <td>30  </td> <td>0.583</td> <td>21-15      </td> <td>21-15      </td> <td>nan         </td>\n",
              "        </tr>\n",
              "    </tbody>\n",
              "</table>"
            ],
            "text/plain": [
              "TEAM_ID    | LEAGUE_ID | SEASON_ID | STANDINGSDATE | CONFERENCE | TEAM        | G    | W    | L    | W_PCT | HOME_RECORD | ROAD_RECORD | RETURNTOPLAY\n",
              "1610612747 | 0         | 22020     | 2021-05-25    | West       | L.A. Lakers | 72   | 42   | 30   | 0.583 | 21-15       | 21-15       | nan"
            ]
          },
          "metadata": {
            "tags": []
          },
          "execution_count": 12
        }
      ]
    },
    {
      "cell_type": "code",
      "metadata": {
        "colab": {
          "base_uri": "https://localhost:8080/",
          "height": 110
        },
        "id": "iJs4tv0NPSbF",
        "outputId": "dcad9229-6126-423d-a685-daf536dc0212"
      },
      "source": [
        "ranking.where(\"TEAM_ID\", Lakers_id).where(\"SEASON_ID\", 22019).item(1)"
      ],
      "execution_count": 13,
      "outputs": [
        {
          "output_type": "stream",
          "text": [
            "/usr/local/lib/python3.7/dist-packages/datascience/tables.py:192: FutureWarning: Implicit column method lookup is deprecated.\n",
            "  warnings.warn(\"Implicit column method lookup is deprecated.\", FutureWarning)\n"
          ],
          "name": "stderr"
        },
        {
          "output_type": "execute_result",
          "data": {
            "text/html": [
              "<table border=\"1\" class=\"dataframe\">\n",
              "    <thead>\n",
              "        <tr>\n",
              "            <th>TEAM_ID</th> <th>LEAGUE_ID</th> <th>SEASON_ID</th> <th>STANDINGSDATE</th> <th>CONFERENCE</th> <th>TEAM</th> <th>G</th> <th>W</th> <th>L</th> <th>W_PCT</th> <th>HOME_RECORD</th> <th>ROAD_RECORD</th> <th>RETURNTOPLAY</th>\n",
              "        </tr>\n",
              "    </thead>\n",
              "    <tbody>\n",
              "        <tr>\n",
              "            <td>1610612747</td> <td>0        </td> <td>22019    </td> <td>2020-12-09   </td> <td>West      </td> <td>L.A. Lakers</td> <td>71  </td> <td>52  </td> <td>19  </td> <td>0.732</td> <td>25-10      </td> <td>27-9       </td> <td>nan         </td>\n",
              "        </tr>\n",
              "    </tbody>\n",
              "</table>"
            ],
            "text/plain": [
              "TEAM_ID    | LEAGUE_ID | SEASON_ID | STANDINGSDATE | CONFERENCE | TEAM        | G    | W    | L    | W_PCT | HOME_RECORD | ROAD_RECORD | RETURNTOPLAY\n",
              "1610612747 | 0         | 22019     | 2020-12-09    | West       | L.A. Lakers | 71   | 52   | 19   | 0.732 | 25-10       | 27-9        | nan"
            ]
          },
          "metadata": {
            "tags": []
          },
          "execution_count": 13
        }
      ]
    },
    {
      "cell_type": "code",
      "metadata": {
        "colab": {
          "base_uri": "https://localhost:8080/",
          "height": 110
        },
        "id": "Ridu6XrCQktH",
        "outputId": "013d8b44-91ef-4bce-955c-975683876a23"
      },
      "source": [
        "ranking.where(\"TEAM_ID\", Lakers_id).where(\"SEASON_ID\", 22018).item(1)"
      ],
      "execution_count": 14,
      "outputs": [
        {
          "output_type": "stream",
          "text": [
            "/usr/local/lib/python3.7/dist-packages/datascience/tables.py:192: FutureWarning: Implicit column method lookup is deprecated.\n",
            "  warnings.warn(\"Implicit column method lookup is deprecated.\", FutureWarning)\n"
          ],
          "name": "stderr"
        },
        {
          "output_type": "execute_result",
          "data": {
            "text/html": [
              "<table border=\"1\" class=\"dataframe\">\n",
              "    <thead>\n",
              "        <tr>\n",
              "            <th>TEAM_ID</th> <th>LEAGUE_ID</th> <th>SEASON_ID</th> <th>STANDINGSDATE</th> <th>CONFERENCE</th> <th>TEAM</th> <th>G</th> <th>W</th> <th>L</th> <th>W_PCT</th> <th>HOME_RECORD</th> <th>ROAD_RECORD</th> <th>RETURNTOPLAY</th>\n",
              "        </tr>\n",
              "    </thead>\n",
              "    <tbody>\n",
              "        <tr>\n",
              "            <td>1610612747</td> <td>0        </td> <td>22018    </td> <td>2019-09-28   </td> <td>West      </td> <td>L.A. Lakers</td> <td>82  </td> <td>37  </td> <td>45  </td> <td>0.451</td> <td>22-19      </td> <td>15-26      </td> <td>nan         </td>\n",
              "        </tr>\n",
              "    </tbody>\n",
              "</table>"
            ],
            "text/plain": [
              "TEAM_ID    | LEAGUE_ID | SEASON_ID | STANDINGSDATE | CONFERENCE | TEAM        | G    | W    | L    | W_PCT | HOME_RECORD | ROAD_RECORD | RETURNTOPLAY\n",
              "1610612747 | 0         | 22018     | 2019-09-28    | West       | L.A. Lakers | 82   | 37   | 45   | 0.451 | 22-19       | 15-26       | nan"
            ]
          },
          "metadata": {
            "tags": []
          },
          "execution_count": 14
        }
      ]
    },
    {
      "cell_type": "code",
      "metadata": {
        "colab": {
          "base_uri": "https://localhost:8080/",
          "height": 110
        },
        "id": "WqLSUSiyQmSO",
        "outputId": "f971625c-c988-41f6-e359-2f7f53d9813d"
      },
      "source": [
        "ranking.where(\"TEAM_ID\", Lakers_id).where(\"SEASON_ID\", 22017).item(1)"
      ],
      "execution_count": 15,
      "outputs": [
        {
          "output_type": "stream",
          "text": [
            "/usr/local/lib/python3.7/dist-packages/datascience/tables.py:192: FutureWarning: Implicit column method lookup is deprecated.\n",
            "  warnings.warn(\"Implicit column method lookup is deprecated.\", FutureWarning)\n"
          ],
          "name": "stderr"
        },
        {
          "output_type": "execute_result",
          "data": {
            "text/html": [
              "<table border=\"1\" class=\"dataframe\">\n",
              "    <thead>\n",
              "        <tr>\n",
              "            <th>TEAM_ID</th> <th>LEAGUE_ID</th> <th>SEASON_ID</th> <th>STANDINGSDATE</th> <th>CONFERENCE</th> <th>TEAM</th> <th>G</th> <th>W</th> <th>L</th> <th>W_PCT</th> <th>HOME_RECORD</th> <th>ROAD_RECORD</th> <th>RETURNTOPLAY</th>\n",
              "        </tr>\n",
              "    </thead>\n",
              "    <tbody>\n",
              "        <tr>\n",
              "            <td>1610612747</td> <td>0        </td> <td>22017    </td> <td>2018-09-26   </td> <td>West      </td> <td>L.A. Lakers</td> <td>82  </td> <td>35  </td> <td>47  </td> <td>0.427</td> <td>20-21      </td> <td>15-26      </td> <td>nan         </td>\n",
              "        </tr>\n",
              "    </tbody>\n",
              "</table>"
            ],
            "text/plain": [
              "TEAM_ID    | LEAGUE_ID | SEASON_ID | STANDINGSDATE | CONFERENCE | TEAM        | G    | W    | L    | W_PCT | HOME_RECORD | ROAD_RECORD | RETURNTOPLAY\n",
              "1610612747 | 0         | 22017     | 2018-09-26    | West       | L.A. Lakers | 82   | 35   | 47   | 0.427 | 20-21       | 15-26       | nan"
            ]
          },
          "metadata": {
            "tags": []
          },
          "execution_count": 15
        }
      ]
    },
    {
      "cell_type": "code",
      "metadata": {
        "colab": {
          "base_uri": "https://localhost:8080/",
          "height": 110
        },
        "id": "91z4aza8Qoda",
        "outputId": "a4915258-361c-48d6-c477-4d47cc033c02"
      },
      "source": [
        "ranking.where(\"TEAM_ID\", Lakers_id).where(\"SEASON_ID\", 22016).item(1)"
      ],
      "execution_count": 16,
      "outputs": [
        {
          "output_type": "stream",
          "text": [
            "/usr/local/lib/python3.7/dist-packages/datascience/tables.py:192: FutureWarning: Implicit column method lookup is deprecated.\n",
            "  warnings.warn(\"Implicit column method lookup is deprecated.\", FutureWarning)\n"
          ],
          "name": "stderr"
        },
        {
          "output_type": "execute_result",
          "data": {
            "text/html": [
              "<table border=\"1\" class=\"dataframe\">\n",
              "    <thead>\n",
              "        <tr>\n",
              "            <th>TEAM_ID</th> <th>LEAGUE_ID</th> <th>SEASON_ID</th> <th>STANDINGSDATE</th> <th>CONFERENCE</th> <th>TEAM</th> <th>G</th> <th>W</th> <th>L</th> <th>W_PCT</th> <th>HOME_RECORD</th> <th>ROAD_RECORD</th> <th>RETURNTOPLAY</th>\n",
              "        </tr>\n",
              "    </thead>\n",
              "    <tbody>\n",
              "        <tr>\n",
              "            <td>1610612747</td> <td>0        </td> <td>22016    </td> <td>2017-09-28   </td> <td>West      </td> <td>L.A. Lakers</td> <td>82  </td> <td>26  </td> <td>56  </td> <td>0.317</td> <td>17-24      </td> <td>9-32       </td> <td>nan         </td>\n",
              "        </tr>\n",
              "    </tbody>\n",
              "</table>"
            ],
            "text/plain": [
              "TEAM_ID    | LEAGUE_ID | SEASON_ID | STANDINGSDATE | CONFERENCE | TEAM        | G    | W    | L    | W_PCT | HOME_RECORD | ROAD_RECORD | RETURNTOPLAY\n",
              "1610612747 | 0         | 22016     | 2017-09-28    | West       | L.A. Lakers | 82   | 26   | 56   | 0.317 | 17-24       | 9-32        | nan"
            ]
          },
          "metadata": {
            "tags": []
          },
          "execution_count": 16
        }
      ]
    },
    {
      "cell_type": "markdown",
      "metadata": {
        "id": "G6XPzt27RcsE"
      },
      "source": [
        "Repeat for the three other teams.\n",
        "\n",
        "Jazz"
      ]
    },
    {
      "cell_type": "code",
      "metadata": {
        "colab": {
          "base_uri": "https://localhost:8080/",
          "height": 110
        },
        "id": "4Mi89EVQRbDV",
        "outputId": "0b8eab53-33e8-41b5-b277-f4bf7c4a3639"
      },
      "source": [
        "ranking.where(\"TEAM_ID\", Jazz_id).where(\"SEASON_ID\", 22020).item(1)"
      ],
      "execution_count": 17,
      "outputs": [
        {
          "output_type": "stream",
          "text": [
            "/usr/local/lib/python3.7/dist-packages/datascience/tables.py:192: FutureWarning: Implicit column method lookup is deprecated.\n",
            "  warnings.warn(\"Implicit column method lookup is deprecated.\", FutureWarning)\n"
          ],
          "name": "stderr"
        },
        {
          "output_type": "execute_result",
          "data": {
            "text/html": [
              "<table border=\"1\" class=\"dataframe\">\n",
              "    <thead>\n",
              "        <tr>\n",
              "            <th>TEAM_ID</th> <th>LEAGUE_ID</th> <th>SEASON_ID</th> <th>STANDINGSDATE</th> <th>CONFERENCE</th> <th>TEAM</th> <th>G</th> <th>W</th> <th>L</th> <th>W_PCT</th> <th>HOME_RECORD</th> <th>ROAD_RECORD</th> <th>RETURNTOPLAY</th>\n",
              "        </tr>\n",
              "    </thead>\n",
              "    <tbody>\n",
              "        <tr>\n",
              "            <td>1610612762</td> <td>0        </td> <td>22020    </td> <td>2021-05-25   </td> <td>West      </td> <td>Utah</td> <td>72  </td> <td>52  </td> <td>20  </td> <td>0.722</td> <td>31-5       </td> <td>21-15      </td> <td>nan         </td>\n",
              "        </tr>\n",
              "    </tbody>\n",
              "</table>"
            ],
            "text/plain": [
              "TEAM_ID    | LEAGUE_ID | SEASON_ID | STANDINGSDATE | CONFERENCE | TEAM | G    | W    | L    | W_PCT | HOME_RECORD | ROAD_RECORD | RETURNTOPLAY\n",
              "1610612762 | 0         | 22020     | 2021-05-25    | West       | Utah | 72   | 52   | 20   | 0.722 | 31-5        | 21-15       | nan"
            ]
          },
          "metadata": {
            "tags": []
          },
          "execution_count": 17
        }
      ]
    },
    {
      "cell_type": "code",
      "metadata": {
        "colab": {
          "base_uri": "https://localhost:8080/",
          "height": 110
        },
        "id": "_JiD2AEtRiOC",
        "outputId": "e32ddd7c-9393-405d-8ca5-d2373d37a300"
      },
      "source": [
        "ranking.where(\"TEAM_ID\", Jazz_id).where(\"SEASON_ID\", 22019).item(1)"
      ],
      "execution_count": 18,
      "outputs": [
        {
          "output_type": "stream",
          "text": [
            "/usr/local/lib/python3.7/dist-packages/datascience/tables.py:192: FutureWarning: Implicit column method lookup is deprecated.\n",
            "  warnings.warn(\"Implicit column method lookup is deprecated.\", FutureWarning)\n"
          ],
          "name": "stderr"
        },
        {
          "output_type": "execute_result",
          "data": {
            "text/html": [
              "<table border=\"1\" class=\"dataframe\">\n",
              "    <thead>\n",
              "        <tr>\n",
              "            <th>TEAM_ID</th> <th>LEAGUE_ID</th> <th>SEASON_ID</th> <th>STANDINGSDATE</th> <th>CONFERENCE</th> <th>TEAM</th> <th>G</th> <th>W</th> <th>L</th> <th>W_PCT</th> <th>HOME_RECORD</th> <th>ROAD_RECORD</th> <th>RETURNTOPLAY</th>\n",
              "        </tr>\n",
              "    </thead>\n",
              "    <tbody>\n",
              "        <tr>\n",
              "            <td>1610612762</td> <td>0        </td> <td>22019    </td> <td>2020-12-09   </td> <td>West      </td> <td>Utah</td> <td>72  </td> <td>44  </td> <td>28  </td> <td>0.611</td> <td>23-12      </td> <td>21-16      </td> <td>nan         </td>\n",
              "        </tr>\n",
              "    </tbody>\n",
              "</table>"
            ],
            "text/plain": [
              "TEAM_ID    | LEAGUE_ID | SEASON_ID | STANDINGSDATE | CONFERENCE | TEAM | G    | W    | L    | W_PCT | HOME_RECORD | ROAD_RECORD | RETURNTOPLAY\n",
              "1610612762 | 0         | 22019     | 2020-12-09    | West       | Utah | 72   | 44   | 28   | 0.611 | 23-12       | 21-16       | nan"
            ]
          },
          "metadata": {
            "tags": []
          },
          "execution_count": 18
        }
      ]
    },
    {
      "cell_type": "code",
      "metadata": {
        "colab": {
          "base_uri": "https://localhost:8080/",
          "height": 110
        },
        "id": "Usq9E2AlRl35",
        "outputId": "111f72b8-5a59-47ae-f457-ab513adb4d29"
      },
      "source": [
        "ranking.where(\"TEAM_ID\", Jazz_id).where(\"SEASON_ID\", 22018).item(1)"
      ],
      "execution_count": 19,
      "outputs": [
        {
          "output_type": "stream",
          "text": [
            "/usr/local/lib/python3.7/dist-packages/datascience/tables.py:192: FutureWarning: Implicit column method lookup is deprecated.\n",
            "  warnings.warn(\"Implicit column method lookup is deprecated.\", FutureWarning)\n"
          ],
          "name": "stderr"
        },
        {
          "output_type": "execute_result",
          "data": {
            "text/html": [
              "<table border=\"1\" class=\"dataframe\">\n",
              "    <thead>\n",
              "        <tr>\n",
              "            <th>TEAM_ID</th> <th>LEAGUE_ID</th> <th>SEASON_ID</th> <th>STANDINGSDATE</th> <th>CONFERENCE</th> <th>TEAM</th> <th>G</th> <th>W</th> <th>L</th> <th>W_PCT</th> <th>HOME_RECORD</th> <th>ROAD_RECORD</th> <th>RETURNTOPLAY</th>\n",
              "        </tr>\n",
              "    </thead>\n",
              "    <tbody>\n",
              "        <tr>\n",
              "            <td>1610612762</td> <td>0        </td> <td>22018    </td> <td>2019-09-28   </td> <td>West      </td> <td>Utah</td> <td>82  </td> <td>50  </td> <td>32  </td> <td>0.61 </td> <td>29-12      </td> <td>21-20      </td> <td>nan         </td>\n",
              "        </tr>\n",
              "    </tbody>\n",
              "</table>"
            ],
            "text/plain": [
              "TEAM_ID    | LEAGUE_ID | SEASON_ID | STANDINGSDATE | CONFERENCE | TEAM | G    | W    | L    | W_PCT | HOME_RECORD | ROAD_RECORD | RETURNTOPLAY\n",
              "1610612762 | 0         | 22018     | 2019-09-28    | West       | Utah | 82   | 50   | 32   | 0.61  | 29-12       | 21-20       | nan"
            ]
          },
          "metadata": {
            "tags": []
          },
          "execution_count": 19
        }
      ]
    },
    {
      "cell_type": "code",
      "metadata": {
        "colab": {
          "base_uri": "https://localhost:8080/",
          "height": 110
        },
        "id": "f2jjnuoRRm9I",
        "outputId": "251ec40c-c38e-4e71-c8f5-ff0b180bad5f"
      },
      "source": [
        "ranking.where(\"TEAM_ID\", Jazz_id).where(\"SEASON_ID\", 22017).item(1)"
      ],
      "execution_count": 20,
      "outputs": [
        {
          "output_type": "stream",
          "text": [
            "/usr/local/lib/python3.7/dist-packages/datascience/tables.py:192: FutureWarning: Implicit column method lookup is deprecated.\n",
            "  warnings.warn(\"Implicit column method lookup is deprecated.\", FutureWarning)\n"
          ],
          "name": "stderr"
        },
        {
          "output_type": "execute_result",
          "data": {
            "text/html": [
              "<table border=\"1\" class=\"dataframe\">\n",
              "    <thead>\n",
              "        <tr>\n",
              "            <th>TEAM_ID</th> <th>LEAGUE_ID</th> <th>SEASON_ID</th> <th>STANDINGSDATE</th> <th>CONFERENCE</th> <th>TEAM</th> <th>G</th> <th>W</th> <th>L</th> <th>W_PCT</th> <th>HOME_RECORD</th> <th>ROAD_RECORD</th> <th>RETURNTOPLAY</th>\n",
              "        </tr>\n",
              "    </thead>\n",
              "    <tbody>\n",
              "        <tr>\n",
              "            <td>1610612762</td> <td>0        </td> <td>22017    </td> <td>2018-09-26   </td> <td>West      </td> <td>Utah</td> <td>82  </td> <td>48  </td> <td>34  </td> <td>0.585</td> <td>28-13      </td> <td>20-21      </td> <td>nan         </td>\n",
              "        </tr>\n",
              "    </tbody>\n",
              "</table>"
            ],
            "text/plain": [
              "TEAM_ID    | LEAGUE_ID | SEASON_ID | STANDINGSDATE | CONFERENCE | TEAM | G    | W    | L    | W_PCT | HOME_RECORD | ROAD_RECORD | RETURNTOPLAY\n",
              "1610612762 | 0         | 22017     | 2018-09-26    | West       | Utah | 82   | 48   | 34   | 0.585 | 28-13       | 20-21       | nan"
            ]
          },
          "metadata": {
            "tags": []
          },
          "execution_count": 20
        }
      ]
    },
    {
      "cell_type": "code",
      "metadata": {
        "colab": {
          "base_uri": "https://localhost:8080/",
          "height": 110
        },
        "id": "K0YhW4MwRoHl",
        "outputId": "9e198178-28c4-412a-f40a-0f96027013fd"
      },
      "source": [
        "ranking.where(\"TEAM_ID\", Jazz_id).where(\"SEASON_ID\", 22016).item(1)"
      ],
      "execution_count": 21,
      "outputs": [
        {
          "output_type": "stream",
          "text": [
            "/usr/local/lib/python3.7/dist-packages/datascience/tables.py:192: FutureWarning: Implicit column method lookup is deprecated.\n",
            "  warnings.warn(\"Implicit column method lookup is deprecated.\", FutureWarning)\n"
          ],
          "name": "stderr"
        },
        {
          "output_type": "execute_result",
          "data": {
            "text/html": [
              "<table border=\"1\" class=\"dataframe\">\n",
              "    <thead>\n",
              "        <tr>\n",
              "            <th>TEAM_ID</th> <th>LEAGUE_ID</th> <th>SEASON_ID</th> <th>STANDINGSDATE</th> <th>CONFERENCE</th> <th>TEAM</th> <th>G</th> <th>W</th> <th>L</th> <th>W_PCT</th> <th>HOME_RECORD</th> <th>ROAD_RECORD</th> <th>RETURNTOPLAY</th>\n",
              "        </tr>\n",
              "    </thead>\n",
              "    <tbody>\n",
              "        <tr>\n",
              "            <td>1610612762</td> <td>0        </td> <td>22016    </td> <td>2017-09-28   </td> <td>West      </td> <td>Utah</td> <td>82  </td> <td>51  </td> <td>31  </td> <td>0.622</td> <td>29-12      </td> <td>22-19      </td> <td>nan         </td>\n",
              "        </tr>\n",
              "    </tbody>\n",
              "</table>"
            ],
            "text/plain": [
              "TEAM_ID    | LEAGUE_ID | SEASON_ID | STANDINGSDATE | CONFERENCE | TEAM | G    | W    | L    | W_PCT | HOME_RECORD | ROAD_RECORD | RETURNTOPLAY\n",
              "1610612762 | 0         | 22016     | 2017-09-28    | West       | Utah | 82   | 51   | 31   | 0.622 | 29-12       | 22-19       | nan"
            ]
          },
          "metadata": {
            "tags": []
          },
          "execution_count": 21
        }
      ]
    },
    {
      "cell_type": "markdown",
      "metadata": {
        "id": "ICP0JNXOR8xR"
      },
      "source": [
        "Nets"
      ]
    },
    {
      "cell_type": "code",
      "metadata": {
        "colab": {
          "base_uri": "https://localhost:8080/",
          "height": 110
        },
        "id": "jM2WqFG9R-Z5",
        "outputId": "f46145a4-a337-46c4-b52d-4898b53bd3c9"
      },
      "source": [
        "ranking.where(\"TEAM_ID\", Nets_id).where(\"SEASON_ID\", 22020).item(1)"
      ],
      "execution_count": 22,
      "outputs": [
        {
          "output_type": "stream",
          "text": [
            "/usr/local/lib/python3.7/dist-packages/datascience/tables.py:192: FutureWarning: Implicit column method lookup is deprecated.\n",
            "  warnings.warn(\"Implicit column method lookup is deprecated.\", FutureWarning)\n"
          ],
          "name": "stderr"
        },
        {
          "output_type": "execute_result",
          "data": {
            "text/html": [
              "<table border=\"1\" class=\"dataframe\">\n",
              "    <thead>\n",
              "        <tr>\n",
              "            <th>TEAM_ID</th> <th>LEAGUE_ID</th> <th>SEASON_ID</th> <th>STANDINGSDATE</th> <th>CONFERENCE</th> <th>TEAM</th> <th>G</th> <th>W</th> <th>L</th> <th>W_PCT</th> <th>HOME_RECORD</th> <th>ROAD_RECORD</th> <th>RETURNTOPLAY</th>\n",
              "        </tr>\n",
              "    </thead>\n",
              "    <tbody>\n",
              "        <tr>\n",
              "            <td>1610612751</td> <td>0        </td> <td>22020    </td> <td>2021-05-25   </td> <td>East      </td> <td>Brooklyn</td> <td>72  </td> <td>48  </td> <td>24  </td> <td>0.667</td> <td>28-8       </td> <td>20-16      </td> <td>nan         </td>\n",
              "        </tr>\n",
              "    </tbody>\n",
              "</table>"
            ],
            "text/plain": [
              "TEAM_ID    | LEAGUE_ID | SEASON_ID | STANDINGSDATE | CONFERENCE | TEAM     | G    | W    | L    | W_PCT | HOME_RECORD | ROAD_RECORD | RETURNTOPLAY\n",
              "1610612751 | 0         | 22020     | 2021-05-25    | East       | Brooklyn | 72   | 48   | 24   | 0.667 | 28-8        | 20-16       | nan"
            ]
          },
          "metadata": {
            "tags": []
          },
          "execution_count": 22
        }
      ]
    },
    {
      "cell_type": "code",
      "metadata": {
        "colab": {
          "base_uri": "https://localhost:8080/",
          "height": 110
        },
        "id": "htH1U9MvSCKa",
        "outputId": "7fa689e5-7fa5-4887-e39d-b69d6e8827d9"
      },
      "source": [
        "ranking.where(\"TEAM_ID\", Nets_id).where(\"SEASON_ID\", 22019).item(1)"
      ],
      "execution_count": 23,
      "outputs": [
        {
          "output_type": "stream",
          "text": [
            "/usr/local/lib/python3.7/dist-packages/datascience/tables.py:192: FutureWarning: Implicit column method lookup is deprecated.\n",
            "  warnings.warn(\"Implicit column method lookup is deprecated.\", FutureWarning)\n"
          ],
          "name": "stderr"
        },
        {
          "output_type": "execute_result",
          "data": {
            "text/html": [
              "<table border=\"1\" class=\"dataframe\">\n",
              "    <thead>\n",
              "        <tr>\n",
              "            <th>TEAM_ID</th> <th>LEAGUE_ID</th> <th>SEASON_ID</th> <th>STANDINGSDATE</th> <th>CONFERENCE</th> <th>TEAM</th> <th>G</th> <th>W</th> <th>L</th> <th>W_PCT</th> <th>HOME_RECORD</th> <th>ROAD_RECORD</th> <th>RETURNTOPLAY</th>\n",
              "        </tr>\n",
              "    </thead>\n",
              "    <tbody>\n",
              "        <tr>\n",
              "            <td>1610612751</td> <td>0        </td> <td>22019    </td> <td>2020-12-09   </td> <td>East      </td> <td>Brooklyn</td> <td>72  </td> <td>35  </td> <td>37  </td> <td>0.486</td> <td>20-16      </td> <td>15-21      </td> <td>1           </td>\n",
              "        </tr>\n",
              "    </tbody>\n",
              "</table>"
            ],
            "text/plain": [
              "TEAM_ID    | LEAGUE_ID | SEASON_ID | STANDINGSDATE | CONFERENCE | TEAM     | G    | W    | L    | W_PCT | HOME_RECORD | ROAD_RECORD | RETURNTOPLAY\n",
              "1610612751 | 0         | 22019     | 2020-12-09    | East       | Brooklyn | 72   | 35   | 37   | 0.486 | 20-16       | 15-21       | 1"
            ]
          },
          "metadata": {
            "tags": []
          },
          "execution_count": 23
        }
      ]
    },
    {
      "cell_type": "code",
      "metadata": {
        "colab": {
          "base_uri": "https://localhost:8080/",
          "height": 110
        },
        "id": "oayQuebdSB-J",
        "outputId": "191feadf-0eaf-4047-df3e-a84e73da2f6e"
      },
      "source": [
        "ranking.where(\"TEAM_ID\", Nets_id).where(\"SEASON_ID\", 22018).item(1)"
      ],
      "execution_count": 24,
      "outputs": [
        {
          "output_type": "stream",
          "text": [
            "/usr/local/lib/python3.7/dist-packages/datascience/tables.py:192: FutureWarning: Implicit column method lookup is deprecated.\n",
            "  warnings.warn(\"Implicit column method lookup is deprecated.\", FutureWarning)\n"
          ],
          "name": "stderr"
        },
        {
          "output_type": "execute_result",
          "data": {
            "text/html": [
              "<table border=\"1\" class=\"dataframe\">\n",
              "    <thead>\n",
              "        <tr>\n",
              "            <th>TEAM_ID</th> <th>LEAGUE_ID</th> <th>SEASON_ID</th> <th>STANDINGSDATE</th> <th>CONFERENCE</th> <th>TEAM</th> <th>G</th> <th>W</th> <th>L</th> <th>W_PCT</th> <th>HOME_RECORD</th> <th>ROAD_RECORD</th> <th>RETURNTOPLAY</th>\n",
              "        </tr>\n",
              "    </thead>\n",
              "    <tbody>\n",
              "        <tr>\n",
              "            <td>1610612751</td> <td>0        </td> <td>22018    </td> <td>2019-09-28   </td> <td>East      </td> <td>Brooklyn</td> <td>82  </td> <td>42  </td> <td>40  </td> <td>0.512</td> <td>23-18      </td> <td>19-22      </td> <td>nan         </td>\n",
              "        </tr>\n",
              "    </tbody>\n",
              "</table>"
            ],
            "text/plain": [
              "TEAM_ID    | LEAGUE_ID | SEASON_ID | STANDINGSDATE | CONFERENCE | TEAM     | G    | W    | L    | W_PCT | HOME_RECORD | ROAD_RECORD | RETURNTOPLAY\n",
              "1610612751 | 0         | 22018     | 2019-09-28    | East       | Brooklyn | 82   | 42   | 40   | 0.512 | 23-18       | 19-22       | nan"
            ]
          },
          "metadata": {
            "tags": []
          },
          "execution_count": 24
        }
      ]
    },
    {
      "cell_type": "code",
      "metadata": {
        "colab": {
          "base_uri": "https://localhost:8080/",
          "height": 110
        },
        "id": "VRp9H1F5SB2k",
        "outputId": "22ff69a7-e8ee-4216-dd12-50fe6c535fa7"
      },
      "source": [
        "ranking.where(\"TEAM_ID\", Nets_id).where(\"SEASON_ID\", 22017).item(1)"
      ],
      "execution_count": 25,
      "outputs": [
        {
          "output_type": "stream",
          "text": [
            "/usr/local/lib/python3.7/dist-packages/datascience/tables.py:192: FutureWarning: Implicit column method lookup is deprecated.\n",
            "  warnings.warn(\"Implicit column method lookup is deprecated.\", FutureWarning)\n"
          ],
          "name": "stderr"
        },
        {
          "output_type": "execute_result",
          "data": {
            "text/html": [
              "<table border=\"1\" class=\"dataframe\">\n",
              "    <thead>\n",
              "        <tr>\n",
              "            <th>TEAM_ID</th> <th>LEAGUE_ID</th> <th>SEASON_ID</th> <th>STANDINGSDATE</th> <th>CONFERENCE</th> <th>TEAM</th> <th>G</th> <th>W</th> <th>L</th> <th>W_PCT</th> <th>HOME_RECORD</th> <th>ROAD_RECORD</th> <th>RETURNTOPLAY</th>\n",
              "        </tr>\n",
              "    </thead>\n",
              "    <tbody>\n",
              "        <tr>\n",
              "            <td>1610612751</td> <td>0        </td> <td>22017    </td> <td>2018-09-26   </td> <td>East      </td> <td>Brooklyn</td> <td>82  </td> <td>28  </td> <td>54  </td> <td>0.341</td> <td>15-26      </td> <td>13-28      </td> <td>nan         </td>\n",
              "        </tr>\n",
              "    </tbody>\n",
              "</table>"
            ],
            "text/plain": [
              "TEAM_ID    | LEAGUE_ID | SEASON_ID | STANDINGSDATE | CONFERENCE | TEAM     | G    | W    | L    | W_PCT | HOME_RECORD | ROAD_RECORD | RETURNTOPLAY\n",
              "1610612751 | 0         | 22017     | 2018-09-26    | East       | Brooklyn | 82   | 28   | 54   | 0.341 | 15-26       | 13-28       | nan"
            ]
          },
          "metadata": {
            "tags": []
          },
          "execution_count": 25
        }
      ]
    },
    {
      "cell_type": "code",
      "metadata": {
        "colab": {
          "base_uri": "https://localhost:8080/",
          "height": 110
        },
        "id": "4yoTbfsMSBr3",
        "outputId": "a1f846cd-ced5-4ea8-95d7-762043f80c4d"
      },
      "source": [
        "ranking.where(\"TEAM_ID\", Nets_id).where(\"SEASON_ID\", 22016).item(1)"
      ],
      "execution_count": 26,
      "outputs": [
        {
          "output_type": "stream",
          "text": [
            "/usr/local/lib/python3.7/dist-packages/datascience/tables.py:192: FutureWarning: Implicit column method lookup is deprecated.\n",
            "  warnings.warn(\"Implicit column method lookup is deprecated.\", FutureWarning)\n"
          ],
          "name": "stderr"
        },
        {
          "output_type": "execute_result",
          "data": {
            "text/html": [
              "<table border=\"1\" class=\"dataframe\">\n",
              "    <thead>\n",
              "        <tr>\n",
              "            <th>TEAM_ID</th> <th>LEAGUE_ID</th> <th>SEASON_ID</th> <th>STANDINGSDATE</th> <th>CONFERENCE</th> <th>TEAM</th> <th>G</th> <th>W</th> <th>L</th> <th>W_PCT</th> <th>HOME_RECORD</th> <th>ROAD_RECORD</th> <th>RETURNTOPLAY</th>\n",
              "        </tr>\n",
              "    </thead>\n",
              "    <tbody>\n",
              "        <tr>\n",
              "            <td>1610612751</td> <td>0        </td> <td>22016    </td> <td>2017-09-28   </td> <td>East      </td> <td>Brooklyn</td> <td>82  </td> <td>20  </td> <td>62  </td> <td>0.244</td> <td>13-28      </td> <td>7-34       </td> <td>nan         </td>\n",
              "        </tr>\n",
              "    </tbody>\n",
              "</table>"
            ],
            "text/plain": [
              "TEAM_ID    | LEAGUE_ID | SEASON_ID | STANDINGSDATE | CONFERENCE | TEAM     | G    | W    | L    | W_PCT | HOME_RECORD | ROAD_RECORD | RETURNTOPLAY\n",
              "1610612751 | 0         | 22016     | 2017-09-28    | East       | Brooklyn | 82   | 20   | 62   | 0.244 | 13-28       | 7-34        | nan"
            ]
          },
          "metadata": {
            "tags": []
          },
          "execution_count": 26
        }
      ]
    },
    {
      "cell_type": "markdown",
      "metadata": {
        "id": "O9PiiAe3RvTU"
      },
      "source": [
        "Heats"
      ]
    },
    {
      "cell_type": "code",
      "metadata": {
        "colab": {
          "base_uri": "https://localhost:8080/",
          "height": 110
        },
        "id": "SRtbvQUdRpdl",
        "outputId": "7a2a5346-80be-4a63-b669-894ac7c1ab8b"
      },
      "source": [
        "ranking.where(\"TEAM_ID\", Heat_id).where(\"SEASON_ID\", 22020).item(1)"
      ],
      "execution_count": 27,
      "outputs": [
        {
          "output_type": "stream",
          "text": [
            "/usr/local/lib/python3.7/dist-packages/datascience/tables.py:192: FutureWarning: Implicit column method lookup is deprecated.\n",
            "  warnings.warn(\"Implicit column method lookup is deprecated.\", FutureWarning)\n"
          ],
          "name": "stderr"
        },
        {
          "output_type": "execute_result",
          "data": {
            "text/html": [
              "<table border=\"1\" class=\"dataframe\">\n",
              "    <thead>\n",
              "        <tr>\n",
              "            <th>TEAM_ID</th> <th>LEAGUE_ID</th> <th>SEASON_ID</th> <th>STANDINGSDATE</th> <th>CONFERENCE</th> <th>TEAM</th> <th>G</th> <th>W</th> <th>L</th> <th>W_PCT</th> <th>HOME_RECORD</th> <th>ROAD_RECORD</th> <th>RETURNTOPLAY</th>\n",
              "        </tr>\n",
              "    </thead>\n",
              "    <tbody>\n",
              "        <tr>\n",
              "            <td>1610612748</td> <td>0        </td> <td>22020    </td> <td>2021-05-25   </td> <td>East      </td> <td>Miami</td> <td>72  </td> <td>40  </td> <td>32  </td> <td>0.556</td> <td>21-15      </td> <td>19-17      </td> <td>nan         </td>\n",
              "        </tr>\n",
              "    </tbody>\n",
              "</table>"
            ],
            "text/plain": [
              "TEAM_ID    | LEAGUE_ID | SEASON_ID | STANDINGSDATE | CONFERENCE | TEAM  | G    | W    | L    | W_PCT | HOME_RECORD | ROAD_RECORD | RETURNTOPLAY\n",
              "1610612748 | 0         | 22020     | 2021-05-25    | East       | Miami | 72   | 40   | 32   | 0.556 | 21-15       | 19-17       | nan"
            ]
          },
          "metadata": {
            "tags": []
          },
          "execution_count": 27
        }
      ]
    },
    {
      "cell_type": "code",
      "metadata": {
        "colab": {
          "base_uri": "https://localhost:8080/",
          "height": 110
        },
        "id": "hzjJQngKRx8p",
        "outputId": "d138effb-42b9-4bcb-c2fd-402bf01a1510"
      },
      "source": [
        "ranking.where(\"TEAM_ID\", Heat_id).where(\"SEASON_ID\", 22019).item(1)"
      ],
      "execution_count": 28,
      "outputs": [
        {
          "output_type": "stream",
          "text": [
            "/usr/local/lib/python3.7/dist-packages/datascience/tables.py:192: FutureWarning: Implicit column method lookup is deprecated.\n",
            "  warnings.warn(\"Implicit column method lookup is deprecated.\", FutureWarning)\n"
          ],
          "name": "stderr"
        },
        {
          "output_type": "execute_result",
          "data": {
            "text/html": [
              "<table border=\"1\" class=\"dataframe\">\n",
              "    <thead>\n",
              "        <tr>\n",
              "            <th>TEAM_ID</th> <th>LEAGUE_ID</th> <th>SEASON_ID</th> <th>STANDINGSDATE</th> <th>CONFERENCE</th> <th>TEAM</th> <th>G</th> <th>W</th> <th>L</th> <th>W_PCT</th> <th>HOME_RECORD</th> <th>ROAD_RECORD</th> <th>RETURNTOPLAY</th>\n",
              "        </tr>\n",
              "    </thead>\n",
              "    <tbody>\n",
              "        <tr>\n",
              "            <td>1610612748</td> <td>0        </td> <td>22019    </td> <td>2020-12-09   </td> <td>East      </td> <td>Miami</td> <td>73  </td> <td>44  </td> <td>29  </td> <td>0.603</td> <td>29-7       </td> <td>15-22      </td> <td>1           </td>\n",
              "        </tr>\n",
              "    </tbody>\n",
              "</table>"
            ],
            "text/plain": [
              "TEAM_ID    | LEAGUE_ID | SEASON_ID | STANDINGSDATE | CONFERENCE | TEAM  | G    | W    | L    | W_PCT | HOME_RECORD | ROAD_RECORD | RETURNTOPLAY\n",
              "1610612748 | 0         | 22019     | 2020-12-09    | East       | Miami | 73   | 44   | 29   | 0.603 | 29-7        | 15-22       | 1"
            ]
          },
          "metadata": {
            "tags": []
          },
          "execution_count": 28
        }
      ]
    },
    {
      "cell_type": "code",
      "metadata": {
        "colab": {
          "base_uri": "https://localhost:8080/",
          "height": 110
        },
        "id": "uUa2p9qBRz-0",
        "outputId": "61c4d33c-e7d7-4036-a4dc-7e2daf35d825"
      },
      "source": [
        "ranking.where(\"TEAM_ID\", Heat_id).where(\"SEASON_ID\", 22018).item(1)"
      ],
      "execution_count": 29,
      "outputs": [
        {
          "output_type": "stream",
          "text": [
            "/usr/local/lib/python3.7/dist-packages/datascience/tables.py:192: FutureWarning: Implicit column method lookup is deprecated.\n",
            "  warnings.warn(\"Implicit column method lookup is deprecated.\", FutureWarning)\n"
          ],
          "name": "stderr"
        },
        {
          "output_type": "execute_result",
          "data": {
            "text/html": [
              "<table border=\"1\" class=\"dataframe\">\n",
              "    <thead>\n",
              "        <tr>\n",
              "            <th>TEAM_ID</th> <th>LEAGUE_ID</th> <th>SEASON_ID</th> <th>STANDINGSDATE</th> <th>CONFERENCE</th> <th>TEAM</th> <th>G</th> <th>W</th> <th>L</th> <th>W_PCT</th> <th>HOME_RECORD</th> <th>ROAD_RECORD</th> <th>RETURNTOPLAY</th>\n",
              "        </tr>\n",
              "    </thead>\n",
              "    <tbody>\n",
              "        <tr>\n",
              "            <td>1610612748</td> <td>0        </td> <td>22018    </td> <td>2019-09-28   </td> <td>East      </td> <td>Miami</td> <td>82  </td> <td>39  </td> <td>43  </td> <td>0.476</td> <td>19-22      </td> <td>20-21      </td> <td>nan         </td>\n",
              "        </tr>\n",
              "    </tbody>\n",
              "</table>"
            ],
            "text/plain": [
              "TEAM_ID    | LEAGUE_ID | SEASON_ID | STANDINGSDATE | CONFERENCE | TEAM  | G    | W    | L    | W_PCT | HOME_RECORD | ROAD_RECORD | RETURNTOPLAY\n",
              "1610612748 | 0         | 22018     | 2019-09-28    | East       | Miami | 82   | 39   | 43   | 0.476 | 19-22       | 20-21       | nan"
            ]
          },
          "metadata": {
            "tags": []
          },
          "execution_count": 29
        }
      ]
    },
    {
      "cell_type": "code",
      "metadata": {
        "colab": {
          "base_uri": "https://localhost:8080/",
          "height": 110
        },
        "id": "FZPpdIKSR1FD",
        "outputId": "baf11c15-bcf9-4406-a1a4-5a5b48ef69d5"
      },
      "source": [
        "ranking.where(\"TEAM_ID\", Heat_id).where(\"SEASON_ID\", 22017).item(1)"
      ],
      "execution_count": 30,
      "outputs": [
        {
          "output_type": "stream",
          "text": [
            "/usr/local/lib/python3.7/dist-packages/datascience/tables.py:192: FutureWarning: Implicit column method lookup is deprecated.\n",
            "  warnings.warn(\"Implicit column method lookup is deprecated.\", FutureWarning)\n"
          ],
          "name": "stderr"
        },
        {
          "output_type": "execute_result",
          "data": {
            "text/html": [
              "<table border=\"1\" class=\"dataframe\">\n",
              "    <thead>\n",
              "        <tr>\n",
              "            <th>TEAM_ID</th> <th>LEAGUE_ID</th> <th>SEASON_ID</th> <th>STANDINGSDATE</th> <th>CONFERENCE</th> <th>TEAM</th> <th>G</th> <th>W</th> <th>L</th> <th>W_PCT</th> <th>HOME_RECORD</th> <th>ROAD_RECORD</th> <th>RETURNTOPLAY</th>\n",
              "        </tr>\n",
              "    </thead>\n",
              "    <tbody>\n",
              "        <tr>\n",
              "            <td>1610612748</td> <td>0        </td> <td>22017    </td> <td>2018-09-26   </td> <td>East      </td> <td>Miami</td> <td>82  </td> <td>44  </td> <td>38  </td> <td>0.537</td> <td>26-15      </td> <td>18-23      </td> <td>nan         </td>\n",
              "        </tr>\n",
              "    </tbody>\n",
              "</table>"
            ],
            "text/plain": [
              "TEAM_ID    | LEAGUE_ID | SEASON_ID | STANDINGSDATE | CONFERENCE | TEAM  | G    | W    | L    | W_PCT | HOME_RECORD | ROAD_RECORD | RETURNTOPLAY\n",
              "1610612748 | 0         | 22017     | 2018-09-26    | East       | Miami | 82   | 44   | 38   | 0.537 | 26-15       | 18-23       | nan"
            ]
          },
          "metadata": {
            "tags": []
          },
          "execution_count": 30
        }
      ]
    },
    {
      "cell_type": "code",
      "metadata": {
        "colab": {
          "base_uri": "https://localhost:8080/",
          "height": 110
        },
        "id": "t_MrMMUdR2U-",
        "outputId": "744d6db3-9450-48ed-fcd2-19b30605646b"
      },
      "source": [
        "ranking.where(\"TEAM_ID\", Heat_id).where(\"SEASON_ID\", 22016).item(1)"
      ],
      "execution_count": 31,
      "outputs": [
        {
          "output_type": "stream",
          "text": [
            "/usr/local/lib/python3.7/dist-packages/datascience/tables.py:192: FutureWarning: Implicit column method lookup is deprecated.\n",
            "  warnings.warn(\"Implicit column method lookup is deprecated.\", FutureWarning)\n"
          ],
          "name": "stderr"
        },
        {
          "output_type": "execute_result",
          "data": {
            "text/html": [
              "<table border=\"1\" class=\"dataframe\">\n",
              "    <thead>\n",
              "        <tr>\n",
              "            <th>TEAM_ID</th> <th>LEAGUE_ID</th> <th>SEASON_ID</th> <th>STANDINGSDATE</th> <th>CONFERENCE</th> <th>TEAM</th> <th>G</th> <th>W</th> <th>L</th> <th>W_PCT</th> <th>HOME_RECORD</th> <th>ROAD_RECORD</th> <th>RETURNTOPLAY</th>\n",
              "        </tr>\n",
              "    </thead>\n",
              "    <tbody>\n",
              "        <tr>\n",
              "            <td>1610612748</td> <td>0        </td> <td>22016    </td> <td>2017-09-28   </td> <td>East      </td> <td>Miami</td> <td>82  </td> <td>41  </td> <td>41  </td> <td>0.5  </td> <td>23-18      </td> <td>18-23      </td> <td>nan         </td>\n",
              "        </tr>\n",
              "    </tbody>\n",
              "</table>"
            ],
            "text/plain": [
              "TEAM_ID    | LEAGUE_ID | SEASON_ID | STANDINGSDATE | CONFERENCE | TEAM  | G    | W    | L    | W_PCT | HOME_RECORD | ROAD_RECORD | RETURNTOPLAY\n",
              "1610612748 | 0         | 22016     | 2017-09-28    | East       | Miami | 82   | 41   | 41   | 0.5   | 23-18       | 18-23       | nan"
            ]
          },
          "metadata": {
            "tags": []
          },
          "execution_count": 31
        }
      ]
    },
    {
      "cell_type": "markdown",
      "metadata": {
        "id": "EKxQQWNCVD52"
      },
      "source": [
        "Using the data, we can check to see if the homegame win rates are greater than the overall win rate of each season for each team.\n",
        "\n",
        "In the following cells, I will calculate the home game win rates using data obtained from above for each team and compare them with the overall win rate for each season."
      ]
    },
    {
      "cell_type": "code",
      "metadata": {
        "colab": {
          "base_uri": "https://localhost:8080/"
        },
        "id": "067SvDC_R3nM",
        "outputId": "d1604189-3015-42f2-845d-0e4e82f52e19"
      },
      "source": [
        "#Lakers\n",
        "Lakers_home = make_array(21/(21+15), 25/(25+10), 22/(22+19), 21/(20+21), 17/(17+24))\n",
        "Lakers_overall = make_array(0.583, 0.732, 0.451, 0.427, 0.317)\n",
        "Lakers_home > Lakers_overall"
      ],
      "execution_count": 32,
      "outputs": [
        {
          "output_type": "execute_result",
          "data": {
            "text/plain": [
              "array([ True, False,  True,  True,  True])"
            ]
          },
          "metadata": {
            "tags": []
          },
          "execution_count": 32
        }
      ]
    },
    {
      "cell_type": "code",
      "metadata": {
        "colab": {
          "base_uri": "https://localhost:8080/"
        },
        "id": "v8jnAa6lgAvq",
        "outputId": "858bc762-23b5-4adc-8b47-adc7dc1aabe6"
      },
      "source": [
        "#Jazz\n",
        "Jazz_home = make_array(31/(31+5), 23/(23+12), 29/(29+12), 28/(28+13), 29/(29+12))\n",
        "Jazz_overall = make_array(0.722, 0.611, 0.61, 0.585, 0.622)\n",
        "Jazz_home > Jazz_overall"
      ],
      "execution_count": 33,
      "outputs": [
        {
          "output_type": "execute_result",
          "data": {
            "text/plain": [
              "array([ True,  True,  True,  True,  True])"
            ]
          },
          "metadata": {
            "tags": []
          },
          "execution_count": 33
        }
      ]
    },
    {
      "cell_type": "code",
      "metadata": {
        "colab": {
          "base_uri": "https://localhost:8080/"
        },
        "id": "d-IpNDOxhgb4",
        "outputId": "985f8ee0-879d-4d33-cd3b-1c3cf7025232"
      },
      "source": [
        "#Nets\n",
        "Nets_home = make_array(28/(28+8), 20/(20+16), 23/(23+18), 15/(15+26), 13/(13+28))\n",
        "Nets_overall = make_array(0.667, 0.486, 0.512, 0.341, 0.244)\n",
        "Nets_home > Nets_overall"
      ],
      "execution_count": 34,
      "outputs": [
        {
          "output_type": "execute_result",
          "data": {
            "text/plain": [
              "array([ True,  True,  True,  True,  True])"
            ]
          },
          "metadata": {
            "tags": []
          },
          "execution_count": 34
        }
      ]
    },
    {
      "cell_type": "code",
      "metadata": {
        "colab": {
          "base_uri": "https://localhost:8080/"
        },
        "id": "UaHccngGiLDc",
        "outputId": "4a6b5920-c247-414f-805c-7ae485bf8c7f"
      },
      "source": [
        "#Heat\n",
        "Heat_home = make_array(21/(21+15), 29/(29+7), 19/(19+22), 26/(26+15), 23/(23+18))\n",
        "Heat_overall = make_array(0.556, 0.603, 0.476, 0.537, 0.5)\n",
        "Heat_home > Heat_overall"
      ],
      "execution_count": 35,
      "outputs": [
        {
          "output_type": "execute_result",
          "data": {
            "text/plain": [
              "array([ True,  True, False,  True,  True])"
            ]
          },
          "metadata": {
            "tags": []
          },
          "execution_count": 35
        }
      ]
    },
    {
      "cell_type": "markdown",
      "metadata": {
        "id": "TMm8uJWgi7fE"
      },
      "source": [
        "From the comparison, 18 out of 20 seasons have home game win rate greater than the overall win rate of the same season.\n",
        "\n",
        "To visualize this finding:"
      ]
    },
    {
      "cell_type": "code",
      "metadata": {
        "colab": {
          "base_uri": "https://localhost:8080/",
          "height": 1000
        },
        "id": "0BnmLsVwj8sW",
        "outputId": "2cf1a27e-679d-4935-8110-c4901f97ab0c"
      },
      "source": [
        "x = np.arange(2016,2021)\n",
        "width = 0.4\n",
        "plt.bar(x-0.2, Lakers_home, width, color = 'purple')\n",
        "plt.bar(x+0.2, Lakers_overall, width, color = 'gold')\n",
        "plt.title(\"Lakers Home Game Win Rate vs. Overall Win Rate\")\n",
        "plt.xlabel(\"Season\")\n",
        "plt.ylabel(\"Win Rate\")\n",
        "plt.legend([\"Home Game Win Rate\", \"Overall Win Rate\"])\n",
        "plt.show()\n",
        "plt.bar(x-0.2, Jazz_home, width, color = 'navy')\n",
        "plt.bar(x+0.2, Jazz_overall, width, color = 'green')\n",
        "plt.title(\"Jazz Home Game Win Rate vs. Overall Win Rate\")\n",
        "plt.xlabel(\"Season\")\n",
        "plt.ylabel(\"Win Rate\")\n",
        "plt.legend([\"Home Game Win Rate\", \"Overall Win Rate\"])\n",
        "plt.show()\n",
        "plt.bar(x-0.2, Nets_home, width, color = 'gray')\n",
        "plt.bar(x+0.2, Nets_overall, width, color = 'orange')\n",
        "plt.title(\"Nets Home Game Win Rate vs. Overall Win Rate\")\n",
        "plt.xlabel(\"Season\")\n",
        "plt.ylabel(\"Win Rate\")\n",
        "plt.legend([\"Home Game Win Rate\", \"Overall Win Rate\"])\n",
        "plt.show()\n",
        "plt.bar(x-0.2, Heat_home, width, color = 'gold')\n",
        "plt.bar(x+0.2, Heat_overall, width, color = 'red')\n",
        "plt.title(\"Heat Home Game Win Rate vs. Overall Win Rate\")\n",
        "plt.xlabel(\"Season\")\n",
        "plt.ylabel(\"Win Rate\")\n",
        "plt.legend([\"Home Game Win Rate\", \"Overall Win Rate\"])\n",
        "plt.show()"
      ],
      "execution_count": 36,
      "outputs": [
        {
          "output_type": "display_data",
          "data": {
            "image/png": "[encoded data removed]",
            "text/plain": [
              "<Figure size 432x288 with 1 Axes>"
            ]
          },
          "metadata": {
            "tags": []
          }
        },
        {
          "output_type": "display_data",
          "data": {
            "image/png": "[encoded data removed]",
            "text/plain": [
              "<Figure size 432x288 with 1 Axes>"
            ]
          },
          "metadata": {
            "tags": []
          }
        },
        {
          "output_type": "display_data",
          "data": {
            "image/png": "[encoded data removed]",
            "text/plain": [
              "<Figure size 432x288 with 1 Axes>"
            ]
          },
          "metadata": {
            "tags": []
          }
        },
        {
          "output_type": "display_data",
          "data": {
            "image/png": "[encoded data removed]",
            "text/plain": [
              "<Figure size 432x288 with 1 Axes>"
            ]
          },
          "metadata": {
            "tags": []
          }
        }
      ]
    },
    {
      "cell_type": "markdown",
      "metadata": {
        "id": "SQZZkB9Nj_E-"
      },
      "source": [
        "Next, I will check to see if the four teams scored more points for home games than away games for each season to see if there is a correlation between home games and scoring more."
      ]
    },
    {
      "cell_type": "code",
      "metadata": {
        "colab": {
          "base_uri": "https://localhost:8080/"
        },
        "id": "YXv6DaYyip3K",
        "outputId": "dca083ce-cc42-45b2-f3de-3d3b165a225e"
      },
      "source": [
        "#Lakers\n",
        "Lakers_home_20 = np.average(games.where(\"TEAM_ID_home\", Lakers_id).where(\"SEASON\", 2020).column(\"PTS_home\"))\n",
        "Lakers_away_20 = np.average(games.where(\"VISITOR_TEAM_ID\", Lakers_id).where(\"SEASON\", 2020).column(\"PTS_away\"))\n",
        "Lakers_home_19 = np.average(games.where(\"TEAM_ID_home\", Lakers_id).where(\"SEASON\", 2019).column(\"PTS_home\"))\n",
        "Lakers_away_19 = np.average(games.where(\"VISITOR_TEAM_ID\", Lakers_id).where(\"SEASON\", 2019).column(\"PTS_away\"))\n",
        "Lakers_home_18 = np.average(games.where(\"TEAM_ID_home\", Lakers_id).where(\"SEASON\", 2018).column(\"PTS_home\"))\n",
        "Lakers_away_18 = np.average(games.where(\"VISITOR_TEAM_ID\", Lakers_id).where(\"SEASON\", 2018).column(\"PTS_away\"))\n",
        "Lakers_home_17 = np.average(games.where(\"TEAM_ID_home\", Lakers_id).where(\"SEASON\", 2017).column(\"PTS_home\"))\n",
        "Lakers_away_17 = np.average(games.where(\"VISITOR_TEAM_ID\", Lakers_id).where(\"SEASON\", 2017).column(\"PTS_away\"))\n",
        "Lakers_home_16 = np.average(games.where(\"TEAM_ID_home\", Lakers_id).where(\"SEASON\", 2016).column(\"PTS_home\"))\n",
        "Lakers_away_16 = np.average(games.where(\"VISITOR_TEAM_ID\", Lakers_id).where(\"SEASON\", 2016).column(\"PTS_away\"))\n",
        "Lakers_home_all = make_array(Lakers_home_20, Lakers_home_19, Lakers_home_18, Lakers_home_17, Lakers_home_16)\n",
        "Lakers_away_all = make_array(Lakers_away_20, Lakers_away_19, Lakers_away_18, Lakers_away_17, Lakers_away_16)\n",
        "Lakers_home_all > Lakers_away_all"
      ],
      "execution_count": 37,
      "outputs": [
        {
          "output_type": "execute_result",
          "data": {
            "text/plain": [
              "array([ True,  True, False, False,  True])"
            ]
          },
          "metadata": {
            "tags": []
          },
          "execution_count": 37
        }
      ]
    },
    {
      "cell_type": "code",
      "metadata": {
        "id": "PM347ynYiqqH",
        "colab": {
          "base_uri": "https://localhost:8080/"
        },
        "outputId": "2b734910-cb14-432c-8d80-31b61362290a"
      },
      "source": [
        "#Jazz\n",
        "Jazz_home_20 = np.average(games.where(\"TEAM_ID_home\", Jazz_id).where(\"SEASON\", 2020).column(\"PTS_home\"))\n",
        "Jazz_away_20 = np.average(games.where(\"VISITOR_TEAM_ID\", Jazz_id).where(\"SEASON\", 2020).column(\"PTS_home\"))\n",
        "Jazz_home_19 = np.average(games.where(\"TEAM_ID_home\", Jazz_id).where(\"SEASON\", 2019).column(\"PTS_home\"))\n",
        "Jazz_away_19 = np.average(games.where(\"VISITOR_TEAM_ID\", Jazz_id).where(\"SEASON\", 2019).column(\"PTS_home\"))\n",
        "Jazz_home_18 = np.average(games.where(\"TEAM_ID_home\", Jazz_id).where(\"SEASON\", 2018).column(\"PTS_home\"))\n",
        "Jazz_away_18 = np.average(games.where(\"VISITOR_TEAM_ID\", Jazz_id).where(\"SEASON\", 2018).column(\"PTS_home\"))\n",
        "Jazz_home_17 = np.average(games.where(\"TEAM_ID_home\", Jazz_id).where(\"SEASON\", 2017).column(\"PTS_home\"))\n",
        "Jazz_away_17 = np.average(games.where(\"VISITOR_TEAM_ID\", Jazz_id).where(\"SEASON\", 2017).column(\"PTS_home\"))\n",
        "Jazz_home_16 = np.average(games.where(\"TEAM_ID_home\", Jazz_id).where(\"SEASON\", 2016).column(\"PTS_home\"))\n",
        "Jazz_away_16 = np.average(games.where(\"VISITOR_TEAM_ID\", Jazz_id).where(\"SEASON\", 2016).column(\"PTS_home\"))\n",
        "Jazz_home_all = make_array(Jazz_home_20, Jazz_home_19, Jazz_home_18, Jazz_home_17, Jazz_home_16)\n",
        "Jazz_away_all = make_array(Jazz_away_20, Jazz_away_19, Jazz_away_18, Jazz_away_17, Jazz_away_16)\n",
        "Jazz_home_all > Jazz_away_all"
      ],
      "execution_count": 38,
      "outputs": [
        {
          "output_type": "execute_result",
          "data": {
            "text/plain": [
              "array([ True,  True,  True,  True,  True])"
            ]
          },
          "metadata": {
            "tags": []
          },
          "execution_count": 38
        }
      ]
    },
    {
      "cell_type": "code",
      "metadata": {
        "id": "78VBiVPmk_2x",
        "colab": {
          "base_uri": "https://localhost:8080/"
        },
        "outputId": "e78cfb53-dc5c-4d68-bf29-105ce461ce99"
      },
      "source": [
        "#Nets\n",
        "Nets_home_20 = np.average(games.where(\"TEAM_ID_home\", Nets_id).where(\"SEASON\", 2020).column(\"PTS_home\"))\n",
        "Nets_away_20 = np.average(games.where(\"VISITOR_TEAM_ID\", Nets_id).where(\"SEASON\", 2020).column(\"PTS_home\"))\n",
        "Nets_home_19 = np.average(games.where(\"TEAM_ID_home\", Nets_id).where(\"SEASON\", 2019).column(\"PTS_home\"))\n",
        "Nets_away_19 = np.average(games.where(\"VISITOR_TEAM_ID\", Nets_id).where(\"SEASON\", 2019).column(\"PTS_home\"))\n",
        "Nets_home_18 = np.average(games.where(\"TEAM_ID_home\", Nets_id).where(\"SEASON\", 2018).column(\"PTS_home\"))\n",
        "Nets_away_18 = np.average(games.where(\"VISITOR_TEAM_ID\", Nets_id).where(\"SEASON\", 2018).column(\"PTS_home\"))\n",
        "Nets_home_17 = np.average(games.where(\"TEAM_ID_home\", Nets_id).where(\"SEASON\", 2017).column(\"PTS_home\"))\n",
        "Nets_away_17 = np.average(games.where(\"VISITOR_TEAM_ID\", Nets_id).where(\"SEASON\", 2017).column(\"PTS_home\"))\n",
        "Nets_home_16 = np.average(games.where(\"TEAM_ID_home\", Nets_id).where(\"SEASON\", 2016).column(\"PTS_home\"))\n",
        "Nets_away_16 = np.average(games.where(\"VISITOR_TEAM_ID\", Nets_id).where(\"SEASON\", 2016).column(\"PTS_home\"))\n",
        "Nets_home_all = make_array(Nets_home_20, Nets_home_19, Nets_home_18, Nets_home_17, Nets_home_16)\n",
        "Nets_away_all = make_array(Nets_away_20, Nets_away_19, Nets_away_18, Nets_away_17, Nets_away_16)\n",
        "Nets_home_all > Nets_away_all"
      ],
      "execution_count": 39,
      "outputs": [
        {
          "output_type": "execute_result",
          "data": {
            "text/plain": [
              "array([ True, False, False, False, False])"
            ]
          },
          "metadata": {
            "tags": []
          },
          "execution_count": 39
        }
      ]
    },
    {
      "cell_type": "code",
      "metadata": {
        "colab": {
          "base_uri": "https://localhost:8080/"
        },
        "id": "2jgEPx9lVXYC",
        "outputId": "20cdd426-d8eb-4960-b479-0461db56df00"
      },
      "source": [
        "#Heat\n",
        "Heat_home_20 = np.average(games.where(\"TEAM_ID_home\", Heat_id).where(\"SEASON\", 2020).column(\"PTS_home\"))\n",
        "Heat_away_20 = np.average(games.where(\"VISITOR_TEAM_ID\", Heat_id).where(\"SEASON\", 2020).column(\"PTS_home\"))\n",
        "Heat_home_19 = np.average(games.where(\"TEAM_ID_home\", Heat_id).where(\"SEASON\", 2019).column(\"PTS_home\"))\n",
        "Heat_away_19 = np.average(games.where(\"VISITOR_TEAM_ID\", Heat_id).where(\"SEASON\", 2019).column(\"PTS_home\"))\n",
        "Heat_home_18 = np.average(games.where(\"TEAM_ID_home\", Heat_id).where(\"SEASON\", 2018).column(\"PTS_home\"))\n",
        "Heat_away_18 = np.average(games.where(\"VISITOR_TEAM_ID\", Heat_id).where(\"SEASON\", 2018).column(\"PTS_home\"))\n",
        "Heat_home_17 = np.average(games.where(\"TEAM_ID_home\", Heat_id).where(\"SEASON\", 2017).column(\"PTS_home\"))\n",
        "Heat_away_17 = np.average(games.where(\"VISITOR_TEAM_ID\", Heat_id).where(\"SEASON\", 2017).column(\"PTS_home\"))\n",
        "Heat_home_16 = np.average(games.where(\"TEAM_ID_home\", Heat_id).where(\"SEASON\", 2016).column(\"PTS_home\"))\n",
        "Heat_away_16 = np.average(games.where(\"VISITOR_TEAM_ID\", Heat_id).where(\"SEASON\", 2016).column(\"PTS_home\"))\n",
        "Heat_home_all = make_array(Heat_home_20, Heat_home_19, Heat_home_18, Heat_home_17, Heat_home_16)\n",
        "Heat_away_all = make_array(Heat_away_20, Heat_away_19, Heat_away_18, Heat_away_17, Heat_away_16)\n",
        "Heat_home_all > Heat_away_all"
      ],
      "execution_count": 40,
      "outputs": [
        {
          "output_type": "execute_result",
          "data": {
            "text/plain": [
              "array([ True,  True, False,  True,  True])"
            ]
          },
          "metadata": {
            "tags": []
          },
          "execution_count": 40
        }
      ]
    },
    {
      "cell_type": "markdown",
      "metadata": {
        "id": "4ytKyBT6WNfj"
      },
      "source": [
        "From the comparison, 13 out of 20 seasons have average home games scores greater than the away games scores of the same season.\n",
        "\n",
        "To visualize it:"
      ]
    },
    {
      "cell_type": "code",
      "metadata": {
        "colab": {
          "base_uri": "https://localhost:8080/",
          "height": 1000
        },
        "id": "B3II4lX3fG_m",
        "outputId": "6bbeae5e-6f94-4dbd-dc08-fd177f2339cc"
      },
      "source": [
        "x = np.arange(2016,2021)\n",
        "width = 0.4\n",
        "plt.bar(x-0.2, Lakers_home_all, width, color = 'purple')\n",
        "plt.bar(x+0.2, Lakers_away_all, width, color = 'gold')\n",
        "plt.title(\"Lakers Home Game Scores vs. Away Scores\")\n",
        "plt.ylim(0,140)\n",
        "plt.xlabel(\"Season\")\n",
        "plt.ylabel(\"Scores\")\n",
        "plt.legend([\"Home Game Scores\", \"Away Scores\"])\n",
        "plt.show()\n",
        "plt.bar(x-0.2, Jazz_home_all, width, color = 'navy')\n",
        "plt.bar(x+0.2, Jazz_away_all, width, color = 'green')\n",
        "plt.title(\"Jazz Home Game Scores vs. Away Scores\")\n",
        "plt.ylim(0,140)\n",
        "plt.xlabel(\"Season\")\n",
        "plt.ylabel(\"Scores\")\n",
        "plt.legend([\"Home Game Scores\", \"Away Scores\"])\n",
        "plt.show()\n",
        "plt.bar(x-0.2, Nets_home_all, width, color = 'gray')\n",
        "plt.bar(x+0.2, Nets_away_all, width, color = 'orange')\n",
        "plt.title(\"Nets Home Game Scores vs. Away Scores\")\n",
        "plt.ylim(0,140)\n",
        "plt.xlabel(\"Season\")\n",
        "plt.ylabel(\"Scores\")\n",
        "plt.legend([\"Home Game Scores\", \"Away Scores\"])\n",
        "plt.show()\n",
        "plt.bar(x-0.2, Heat_home_all, width, color = 'gold')\n",
        "plt.bar(x+0.2, Heat_away_all, width, color = 'red')\n",
        "plt.title(\"Heat Home Game Scores vs. Away Scores\")\n",
        "plt.ylim(0,140)\n",
        "plt.xlabel(\"Season\")\n",
        "plt.ylabel(\"Scores\")\n",
        "plt.legend([\"Home Game Scores\", \"Away Scores\"])\n",
        "plt.show()"
      ],
      "execution_count": 41,
      "outputs": [
        {
          "output_type": "display_data",
          "data": {
            "image/png": "[encoded data removed]",
            "text/plain": [
              "<Figure size 432x288 with 1 Axes>"
            ]
          },
          "metadata": {
            "tags": []
          }
        },
        {
          "output_type": "display_data",
          "data": {
            "image/png": "[encoded data removed]",
            "text/plain": [
              "<Figure size 432x288 with 1 Axes>"
            ]
          },
          "metadata": {
            "tags": []
          }
        },
        {
          "output_type": "display_data",
          "data": {
            "image/png": "[encoded data removed]",
            "text/plain": [
              "<Figure size 432x288 with 1 Axes>"
            ]
          },
          "metadata": {
            "tags": []
          }
        },
        {
          "output_type": "display_data",
          "data": {
            "image/png": "[encoded data removed]",
            "text/plain": [
              "<Figure size 432x288 with 1 Axes>"
            ]
          },
          "metadata": {
            "tags": []
          }
        }
      ]
    },
    {
      "cell_type": "markdown",
      "metadata": {
        "id": "3sCn0ttiN59R"
      },
      "source": [
        "Since there is not much difference between the home game scores and away scores for the teams for all the seasons, I will use t-test to check if the home game win rates is higher than the away game."
      ]
    },
    {
      "cell_type": "markdown",
      "metadata": {
        "id": "VyFGkMbNaVqq"
      },
      "source": [
        "# T-test"
      ]
    },
    {
      "cell_type": "markdown",
      "metadata": {
        "id": "-l_H2NFIaZns"
      },
      "source": [
        "Null hypothesis: Home game win rate is the same as away game win rate. (Win rate = 0.5)\n",
        "\n",
        "Alternative hypothesis: Home game win rate is higher than away game win rate. (Win rate > 0.5)\n",
        "\n",
        "P-cutoff = 0.2"
      ]
    },
    {
      "cell_type": "markdown",
      "metadata": {
        "id": "QvfsLjNvacKo"
      },
      "source": [
        "First make an array with the home game win rates for all the teams."
      ]
    },
    {
      "cell_type": "code",
      "metadata": {
        "id": "VcnKVLQKM4TU"
      },
      "source": [
        "home_game_win_rate = make_array(21/42,25/52,22/37,20/35,17/26,31/52,23/44,29/50,28/48,29/51,28/48,20/35,23/42,15/28,13/20,21/40,29/44,19/39,26/44,23/41)"
      ],
      "execution_count": 42,
      "outputs": []
    },
    {
      "cell_type": "markdown",
      "metadata": {
        "id": "pPAIXNE3ap3F"
      },
      "source": [
        "Next, make a histogram for the win rates."
      ]
    },
    {
      "cell_type": "code",
      "metadata": {
        "colab": {
          "base_uri": "https://localhost:8080/",
          "height": 440
        },
        "id": "OcT9sGpkOkSG",
        "outputId": "da25ed47-7e72-4573-99e3-5055a255da33"
      },
      "source": [
        "win_rate = Table().with_column(\"Home Game Win Rate\", home_game_win_rate)\n",
        "bins = np.arange(0.46,0.7,0.04)\n",
        "win_rate.hist(\"Home Game Win Rate\", bins=bins)"
      ],
      "execution_count": 43,
      "outputs": [
        {
          "output_type": "display_data",
          "data": {
            "image/png": "[encoded data removed]",
            "text/plain": [
              "<Figure size 432x288 with 1 Axes>"
            ]
          },
          "metadata": {
            "tags": []
          }
        }
      ]
    },
    {
      "cell_type": "markdown",
      "metadata": {
        "id": "mZp5KyBpavIp"
      },
      "source": [
        "Find the proportion of data that is less than 0.5 (50% win rate) to check if we should accept or reject the null hypothesis:"
      ]
    },
    {
      "cell_type": "code",
      "metadata": {
        "colab": {
          "base_uri": "https://localhost:8080/"
        },
        "id": "gkr74xV3OnBv",
        "outputId": "86c25931-d7bc-4039-d0f3-db535037aa99"
      },
      "source": [
        "P = win_rate.where(\"Home Game Win Rate\", are.below(0.5)).num_rows/len(home_game_win_rate)\n",
        "P"
      ],
      "execution_count": 44,
      "outputs": [
        {
          "output_type": "execute_result",
          "data": {
            "text/plain": [
              "0.1"
            ]
          },
          "metadata": {
            "tags": []
          },
          "execution_count": 44
        }
      ]
    },
    {
      "cell_type": "markdown",
      "metadata": {
        "id": "na6tCTobRvxT"
      },
      "source": [
        "Since P < P-cutoff, we can say that home game win rate is higher than away game win rate."
      ]
    },
    {
      "cell_type": "markdown",
      "metadata": {
        "id": "LfoyKiTba-hl"
      },
      "source": [
        "# Conclusion"
      ]
    },
    {
      "cell_type": "markdown",
      "metadata": {
        "id": "O0TxTvyvbAoL"
      },
      "source": [
        "From the line graph and the clustered bar charts, the home game win rate seems to be higher than away game win rates iI was furthered proven by using t-test with a cut-off of 0.2, in which the althernative hypothesis was supported, where the home game win rate is higher than away game win rate. Although more than half of the seasons played have scores higher for home games than away games, there was a significant difference between the score. Therefore, it is to be concluded that home court advantage is real, but it only allows a team to have a higher chance of winning the game instead of scoring more than away games."
      ]
    },
    {
      "cell_type": "markdown",
      "metadata": {
        "id": "7VIY1gadbEQK"
      },
      "source": [
        "# References"
      ]
    },
    {
      "cell_type": "markdown",
      "metadata": {
        "id": "T3kZpq5ebJmm"
      },
      "source": [
        "1) .csv files with all the NBA Statistics from 2004 to 2020\n",
        "seasons: https://www.kaggle.com/nathanlauga/nba-games\n",
        "\n",
        "2) Insipiration of using NBA data for poster: Poster by Edress\n",
        "Gul from Summer 2020\n",
        "\n",
        "3) Source of the average Field Goal percentage graph:\n",
        "https://weaksideawareness.wordpress.com/2012/01/12/howaggregate-nba-stats-change-through-season/\n",
        "\n",
        "4) Reference for setting up Github:\n",
        "https://github.com/AshQTan/DH100/blob/main/DH100_demo.ipynb\n",
        "\n",
        "5) References of datascience functions:\n",
        "http://data8.org/sp21/python-reference.html\n",
        "\n",
        "6) Coding reference for making the clustered bar charts:\n",
        "https://www.geeksforgeeks.org/create-a-grouped-bar-plot-in-matplotlib/"
      ]
    }
  ]
}